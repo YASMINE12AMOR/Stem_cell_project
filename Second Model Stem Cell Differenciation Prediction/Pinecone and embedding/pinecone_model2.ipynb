{
  "cells": [
    {
      "cell_type": "markdown",
      "metadata": {
        "id": "RP4lrjZfREwk"
      },
      "source": [
        "#### Dowload :"
      ]
    },
    {
      "cell_type": "code",
      "execution_count": null,
      "metadata": {
        "colab": {
          "base_uri": "https://localhost:8080/"
        },
        "id": "qkoOPrhWRAXw",
        "outputId": "f3ec4ffc-da1b-44fb-d67a-110ad4e24ce0"
      },
      "outputs": [
        {
          "name": "stdout",
          "output_type": "stream",
          "text": [
            "\u001b[2K     \u001b[90m━━━━━━━━━━━━━━━━━━━━━━━━━━━━━━━━━━━━━━━━\u001b[0m \u001b[32m50.4/50.4 kB\u001b[0m \u001b[31m3.3 MB/s\u001b[0m eta \u001b[36m0:00:00\u001b[0m\n",
            "\u001b[2K   \u001b[90m━━━━━━━━━━━━━━━━━━━━━━━━━━━━━━━━━━━━━━━━\u001b[0m \u001b[32m990.6/990.6 kB\u001b[0m \u001b[31m31.8 MB/s\u001b[0m eta \u001b[36m0:00:00\u001b[0m\n",
            "\u001b[2K   \u001b[90m━━━━━━━━━━━━━━━━━━━━━━━━━━━━━━━━━━━━━━━━\u001b[0m \u001b[32m379.9/379.9 kB\u001b[0m \u001b[31m28.5 MB/s\u001b[0m eta \u001b[36m0:00:00\u001b[0m\n",
            "\u001b[2K   \u001b[90m━━━━━━━━━━━━━━━━━━━━━━━━━━━━━━━━━━━━━━━━\u001b[0m \u001b[32m140.2/140.2 kB\u001b[0m \u001b[31m12.8 MB/s\u001b[0m eta \u001b[36m0:00:00\u001b[0m\n",
            "\u001b[2K   \u001b[90m━━━━━━━━━━━━━━━━━━━━━━━━━━━━━━━━━━━━━━━━\u001b[0m \u001b[32m141.1/141.1 kB\u001b[0m \u001b[31m11.9 MB/s\u001b[0m eta \u001b[36m0:00:00\u001b[0m\n",
            "\u001b[2K   \u001b[90m━━━━━━━━━━━━━━━━━━━━━━━━━━━━━━━━━━━━━━━━\u001b[0m \u001b[32m2.3/2.3 MB\u001b[0m \u001b[31m46.8 MB/s\u001b[0m eta \u001b[36m0:00:00\u001b[0m\n",
            "\u001b[2K   \u001b[90m━━━━━━━━━━━━━━━━━━━━━━━━━━━━━━━━━━━━━━━━\u001b[0m \u001b[32m49.2/49.2 kB\u001b[0m \u001b[31m4.0 MB/s\u001b[0m eta \u001b[36m0:00:00\u001b[0m\n",
            "\u001b[2K   \u001b[90m━━━━━━━━━━━━━━━━━━━━━━━━━━━━━━━━━━━━━━━━\u001b[0m \u001b[32m227.1/227.1 kB\u001b[0m \u001b[31m6.1 MB/s\u001b[0m eta \u001b[36m0:00:00\u001b[0m\n",
            "\u001b[2K   \u001b[90m━━━━━━━━━━━━━━━━━━━━━━━━━━━━━━━━━━━━━━━━\u001b[0m \u001b[32m244.8/244.8 kB\u001b[0m \u001b[31m9.9 MB/s\u001b[0m eta \u001b[36m0:00:00\u001b[0m\n",
            "\u001b[2K   \u001b[90m━━━━━━━━━━━━━━━━━━━━━━━━━━━━━━━━━━━━━━━━\u001b[0m \u001b[32m117.6/117.6 kB\u001b[0m \u001b[31m10.2 MB/s\u001b[0m eta \u001b[36m0:00:00\u001b[0m\n",
            "\u001b[2K   \u001b[90m━━━━━━━━━━━━━━━━━━━━━━━━━━━━━━━━━━━━━━━━\u001b[0m \u001b[32m295.8/295.8 kB\u001b[0m \u001b[31m7.3 MB/s\u001b[0m eta \u001b[36m0:00:00\u001b[0m\n",
            "\u001b[2K   \u001b[90m━━━━━━━━━━━━━━━━━━━━━━━━━━━━━━━━━━━━━━━━\u001b[0m \u001b[32m137.5/137.5 MB\u001b[0m \u001b[31m8.1 MB/s\u001b[0m eta \u001b[36m0:00:00\u001b[0m\n",
            "\u001b[?25hWed Aug  7 10:53:30 2024       \n",
            "+---------------------------------------------------------------------------------------+\n",
            "| NVIDIA-SMI 535.104.05             Driver Version: 535.104.05   CUDA Version: 12.2     |\n",
            "|-----------------------------------------+----------------------+----------------------+\n",
            "| GPU  Name                 Persistence-M | Bus-Id        Disp.A | Volatile Uncorr. ECC |\n",
            "| Fan  Temp   Perf          Pwr:Usage/Cap |         Memory-Usage | GPU-Util  Compute M. |\n",
            "|                                         |                      |               MIG M. |\n",
            "|=========================================+======================+======================|\n",
            "|   0  Tesla T4                       Off | 00000000:00:04.0 Off |                    0 |\n",
            "| N/A   39C    P8               9W /  70W |      0MiB / 15360MiB |      0%      Default |\n",
            "|                                         |                      |                  N/A |\n",
            "+-----------------------------------------+----------------------+----------------------+\n",
            "                                                                                         \n",
            "+---------------------------------------------------------------------------------------+\n",
            "| Processes:                                                                            |\n",
            "|  GPU   GI   CI        PID   Type   Process name                            GPU Memory |\n",
            "|        ID   ID                                                             Usage      |\n",
            "|=======================================================================================|\n",
            "|  No running processes found                                                           |\n",
            "+---------------------------------------------------------------------------------------+\n"
          ]
        }
      ],
      "source": [
        "!pip install -q langchain\n",
        "!pip install -q langchain-community\n",
        "\n",
        "!pip install -q sentence-transformers\n",
        "\n",
        "!pip install -q pinecone-client\n",
        "\n",
        "!pip install -q langchain-pinecone\n",
        "\n",
        "!pip install -q python-dotenv\n",
        "\n",
        "!pip install -q pypdf\n",
        "\n",
        "!pip install -q transformers einops accelerate langchain bitsandbytes\n",
        "\n",
        "!nvidia-smi"
      ]
    },
    {
      "cell_type": "code",
      "execution_count": null,
      "metadata": {
        "id": "94qmo2_6Hywv"
      },
      "outputs": [],
      "source": [
        "from langchain_community.document_loaders import PyPDFLoader , DirectoryLoader\n",
        "from langchain_community.embeddings import HuggingFaceEmbeddings\n",
        "from langchain.text_splitter import RecursiveCharacterTextSplitter\n",
        "\n",
        "from pinecone import Pinecone, ServerlessSpec\n",
        "from langchain_pinecone import PineconeVectorStore\n",
        "\n",
        "\n",
        "from langchain import PromptTemplate\n",
        "from langchain.chains import RetrievalQA\n",
        "from langchain.prompts import PromptTemplate\n",
        "from langchain_community.llms import CTransformers"
      ]
    },
    {
      "cell_type": "code",
      "execution_count": null,
      "metadata": {
        "id": "fQy3RaEHZUCe"
      },
      "outputs": [],
      "source": [
        "from transformers import AutoTokenizer, EsmModel\n",
        "import torch"
      ]
    },
    {
      "cell_type": "code",
      "execution_count": null,
      "metadata": {
        "id": "9IfX5GxGSKY1"
      },
      "outputs": [],
      "source": [
        "PINECONE_API_KEY = \".........\"\n",
        "# PINECONE_API_ENV = \"\"\n",
        "index_name = \".........\""
      ]
    },
    {
      "cell_type": "markdown",
      "metadata": {
        "id": "JyZgrfDdHyw5"
      },
      "source": [
        "#### Reading Data & Create text chunks ::"
      ]
    },
    {
      "cell_type": "code",
      "execution_count": null,
      "metadata": {
        "colab": {
          "base_uri": "https://localhost:8080/"
        },
        "id": "TgxzkDvrTFZr",
        "outputId": "a8271ea6-f897-44de-c5df-7a9f4ce4e311"
      },
      "outputs": [
        {
          "name": "stdout",
          "output_type": "stream",
          "text": [
            "Mounted at /content/drive\n"
          ]
        }
      ],
      "source": [
        "from google.colab import drive\n",
        "drive.mount('/content/drive',force_remount=True)"
      ]
    },
    {
      "cell_type": "code",
      "execution_count": null,
      "metadata": {
        "colab": {
          "base_uri": "https://localhost:8080/"
        },
        "id": "6qZh9hjFTFdD",
        "outputId": "3965d701-f2b9-4da7-a856-bce357ba638f"
      },
      "outputs": [
        {
          "name": "stdout",
          "output_type": "stream",
          "text": [
            "/content/drive/MyDrive/Colab_Notebooks/model-2\n"
          ]
        }
      ],
      "source": [
        "%cd 'drive/MyDrive/Colab_Notebooks/model-2'"
      ]
    },
    {
      "cell_type": "code",
      "execution_count": null,
      "metadata": {
        "colab": {
          "base_uri": "https://localhost:8080/",
          "height": 394
        },
        "id": "5MQG22LeKk5O",
        "outputId": "88cfa54e-025a-4811-dd9f-f1eecd1b313f"
      },
      "outputs": [
        {
          "data": {
            "application/vnd.google.colaboratory.intrinsic+json": {
              "summary": "{\n  \"name\": \"df\",\n  \"rows\": 11,\n  \"fields\": [\n    {\n      \"column\": \"protein Names \",\n      \"properties\": {\n        \"dtype\": \"string\",\n        \"num_unique_values\": 11,\n        \"samples\": [\n          \"Nestin\",\n          \"Nanog\",\n          \"Runx1\"\n        ],\n        \"semantic_type\": \"\",\n        \"description\": \"\"\n      }\n    },\n    {\n      \"column\": \"Cell target \",\n      \"properties\": {\n        \"dtype\": \"string\",\n        \"num_unique_values\": 6,\n        \"samples\": [\n          \"neurone\",\n          \"neurone/yeux\",\n          \"Sang\"\n        ],\n        \"semantic_type\": \"\",\n        \"description\": \"\"\n      }\n    },\n    {\n      \"column\": \"RNA sequence\",\n      \"properties\": {\n        \"dtype\": \"string\",\n        \"num_unique_values\": 11,\n        \"samples\": [\n          \" MEGCMGEESF QMWELNRRLE AYLARVKALE EQNELLSAEL GGLRAQSADT SWRAHADDEL\\n     AALRALVDQR WREKHAAEVA RDNLAEELEG VAGRCQQLRL ARERTTEEVA RNRRAVEAEK\\n     CARAWLSSQV AELERELEAL RVAHEEERVG LNAQAACAPR CPAPPRGPPA PAPEVEELAR\\n     RLGEAWRGAV RGYQERVAHM ETSLGQARER LGRAVQGARE GRLELQQLQA ERGGLLERRA\\n     ALEQRLEGRW QERLRATEKF QLAVEALEQE KQGLQSQIAQ VLEGRQQLAH LKMSLSLEVA\\n     TYRTLLEAEN SRLQTPGGGS KTSLSFQDPK LELQFPRTPE GRRLGSLLPV LSPTSLPSPL\\n     PATLETPVPA FLKNQEFLQA RTPTLASTPI PPTPQAPSPA VDAEIRAQDA PLSLLQTQGG\\n     RKQAPEPLRA EARVAIPASV LPGPEEPGGQ RQEASTGQSP EDHASLAPPL SPDHSSLEAK\\n     DGESGGSRVF SICRGEGEGQ IWGLVEKETA IEGKVVSSLQ QEIWEEEDLN RKEIQDSQVP\\n     LEKETLKSLG EEIQESLKTL ENQSHETLER ENQECPRSLE EDLETLKSLE KENKELLKDV\\n     EVVRPLEKEA VGQLKPTGKE DTQTLQSLQK ENQELMKSLE GNLETFLFPG TENQELVSSL\\n     QENLESLTAL EKENQEPLRS PEVGDEEALR PLTKENQEPL RSLEDENKEA FRSLEKENQE\\n     PLKTLEEEDQ SIVRPLETEN HKSLRSLEEQ DQETLRTLEK ETQQRRRSLG EQDQMTLRPP\\n     EKVDLEPLKS LDQEIARPLE NENQEFLKSL KEESVEAVKS LETEILESLK SAGQENLETL\\n     KSPETQAPLW TPEEINQGAM NPLEKEIQEP LESVEVNQET FRLLEEENQE SLRSLGAWNL\\n     ENLRSPEEVD KESQRNLEEE ENLGKGEYQE SLRSLEEEGQ ELPQSADVQR WEDTVEKDQE\\n     LAQESPPGMA GVENEDEAEL NLREQDGFTG KEEVVEQGEL NATEEVWIPG EGHPESPEPK\\n     EQRGLVEGAS VKGGAEGLQD PEGQSQQVGA PGLQAPQGLP EAIEPLVEDD VAPGGDQASP\\n     EVMLGSEPAM GESAAGAEPG PGQGVGGLGD PGHLTREEVM EPPLEEESLE AKRVQGLEGP\\n     RKDLEEAGGL GTEFSELPGK SRDPWEPPRE GREESEAEAP RGAEEAFPAE TLGHTGSDAP\\n     SPWPLGSEEA EEDVPPVLVS PSPTYTPILE DAPGPQPQAE GSQEASWGVQ GRAEALGKVE\\n     SEQEELGSGE IPEGPQEEGE ESREESEEDE LGETLPDSTP LGFYLRSPTS PRWDPTGEQR\\n     PPPQGETGKE GWDPAVLASE GLEAPPSEKE EGEEGEEECG RDSDLSEEFE DLGTEAPFLP\\n     GVPGEVAEPL GQVPQLLLDP AAWDRDGESD GFADEEESGE EGEEDQEEGR EPGAGRWGPG\\n     SSVGSLQALS SSQRGEFLES DSVSVSVPWD DSLRGAVAGA PKTALETESQ DSAEPSGSEE\\n     ESDPVSLERE DKVPGPLEIP SGMEDAGPGA DIIGVNGQGP NLEGKSQHVN GGVMNGLEQS\\n     EEVGQGMPLV SEGDRGSPFQ EEEGSALKTS WAGAPVHLGQ GQFLKFTQRE GDRESWSSGE\\n     D\",\n          \" MSVDPACPQS LPCFEASDCK ESSPMPVICG PEENYPSLQM SSAEMPHTET VSPLPSSMDL\\n     LIQDSPDSST SPKGKQPTSA EKSVAKKEDK VPVKKQKTRT VFSSTQLCVL NDRFQRQKYL\\n     SLQQMQELSN ILNLSYKQVK TWFQNQRMKS KRWQKNNWPK NSNGVTQKAS APTYPSLYSS\\n     YHQGCLVNPT GNLPMWSNQT WNNSTWSNQT QNIQSWSNHS WNTQTWCTQS WNNQAWNSPF\\n     YNCGEESLQS CMQFQPNSPA SDLEAALEAA GEGLNVIQQT TRYFSTPQTM DLFLNYSMNM\\n     QPEDV\",\n          \" MRIPVDASTS RRFTPPSTAL SPGKMSEALP LGAPDAGAAL AGKLRSGDRS MVEVLADHPG\\n     ELVRTDSPNF LCSVLPTHWR CNKTLPIAFK VVALGDVPDG TLVTVMAGND ENYSAELRNA\\n     TAAMKNQVAR FNDLRFVGRS GRGKSFTLTI TVFTNPPQVA TYHRAIKITV DGPREPRRHR\\n     QKLDDQTKPG SLSFSERLSE LEQLRRTAMR VSPHHPAPTP NPRASLNHST AFNPQPQSQM\\n     QDTRQIQPSP PWSYDQSYQY LGSIASPSVH PATPISPGRA SGMTTLSAEL SSRLSTAPDL\\n     TAFSDPRQFP ALPSISDPRM HYPGAFTYSP TPVTSGIGIG MSAMGSATRY HTYLPPPYPG\\n     SSQAQGGPFQ ASSPSYHLYY GASAGSYQFS MVGGERSPPR ILPPCTNAST GSALLNPSLP\\n     NQSDVVEAEG SHSNSPTNMA PSARLEEAVW RPY\"\n        ],\n        \"semantic_type\": \"\",\n        \"description\": \"\"\n      }\n    },\n    {\n      \"column\": \"Paper research Link\",\n      \"properties\": {\n        \"dtype\": \"string\",\n        \"num_unique_values\": 10,\n        \"samples\": [\n          \"Expression pattern of Runt-related transcription factor (RUNX) family members and the role of RUNX1 during kidney development - ScienceDirect\",\n          \"Multipotent cell lineages in early mouse development depend on SOX2 function - PMC\",\n          \"T-box Genes in Early Embryogenesis - PMC\"\n        ],\n        \"semantic_type\": \"\",\n        \"description\": \"\"\n      }\n    }\n  ]\n}",
              "type": "dataframe",
              "variable_name": "df"
            },
            "text/html": [
              "\n",
              "  <div id=\"df-347b79f1-8564-41ad-b1b6-c0a1376fb38c\" class=\"colab-df-container\">\n",
              "    <div>\n",
              "<style scoped>\n",
              "    .dataframe tbody tr th:only-of-type {\n",
              "        vertical-align: middle;\n",
              "    }\n",
              "\n",
              "    .dataframe tbody tr th {\n",
              "        vertical-align: top;\n",
              "    }\n",
              "\n",
              "    .dataframe thead th {\n",
              "        text-align: right;\n",
              "    }\n",
              "</style>\n",
              "<table border=\"1\" class=\"dataframe\">\n",
              "  <thead>\n",
              "    <tr style=\"text-align: right;\">\n",
              "      <th></th>\n",
              "      <th>protein Names</th>\n",
              "      <th>Cell target</th>\n",
              "      <th>RNA sequence</th>\n",
              "      <th>Paper research Link</th>\n",
              "    </tr>\n",
              "  </thead>\n",
              "  <tbody>\n",
              "    <tr>\n",
              "      <th>0</th>\n",
              "      <td>Nanog</td>\n",
              "      <td>neurone</td>\n",
              "      <td>MSVDPACPQS LPCFEASDCK ESSPMPVICG PEENYPSLQM S...</td>\n",
              "      <td>Functional Expression Cloning of Nanog, a Plur...</td>\n",
              "    </tr>\n",
              "    <tr>\n",
              "      <th>1</th>\n",
              "      <td>Oct4 (POU5F1)</td>\n",
              "      <td>neurone</td>\n",
              "      <td>MSVDPACPQS LPCFEASDCK ESSPMPVICG PEENYPSL...</td>\n",
              "      <td>NaN</td>\n",
              "    </tr>\n",
              "    <tr>\n",
              "      <th>2</th>\n",
              "      <td>Sox2</td>\n",
              "      <td>neurone</td>\n",
              "      <td>MYNMMETELK PPGPQQTSGG GGGNSTAAAA GGNQKNSPDR V...</td>\n",
              "      <td>Multipotent cell lineages in early mouse devel...</td>\n",
              "    </tr>\n",
              "    <tr>\n",
              "      <th>3</th>\n",
              "      <td>Ngn2 (Neurogenin 2)</td>\n",
              "      <td>neurone</td>\n",
              "      <td>MFVKSETLEL KEEEDVLVLL GSASPALAAL TPLSSSADEE E...</td>\n",
              "      <td>Identification of neurogenin, a Vertebrate Neu...</td>\n",
              "    </tr>\n",
              "    <tr>\n",
              "      <th>4</th>\n",
              "      <td>Pax6</td>\n",
              "      <td>neurone/yeux</td>\n",
              "      <td>MQNSHSGVNQ LGGVFVNGRP LPDSTRQKIV ELAHSGARPC DI...</td>\n",
              "      <td>Pax6; a pleiotropic player in development</td>\n",
              "    </tr>\n",
              "    <tr>\n",
              "      <th>5</th>\n",
              "      <td>Nestin</td>\n",
              "      <td>neurone</td>\n",
              "      <td>MEGCMGEESF QMWELNRRLE AYLARVKALE EQNELLSAEL G...</td>\n",
              "      <td>Isolation of Neural Stem Cells from Whole Brai...</td>\n",
              "    </tr>\n",
              "    <tr>\n",
              "      <th>6</th>\n",
              "      <td>Brachyury</td>\n",
              "      <td>muscle / os tissu</td>\n",
              "      <td>MSSPGTESAG KSLQYRVDHL LSAVENELQA GSEKGDPTER E...</td>\n",
              "      <td>T-box Genes in Early Embryogenesis - PMC</td>\n",
              "    </tr>\n",
              "    <tr>\n",
              "      <th>7</th>\n",
              "      <td>GATA4</td>\n",
              "      <td>coeur</td>\n",
              "      <td>MYQSLAMAAN HGPPPGAYEA GGPGAFMHGA GAASSPVYVP T...</td>\n",
              "      <td>Myocardial molecular biology: an introduction ...</td>\n",
              "    </tr>\n",
              "    <tr>\n",
              "      <th>8</th>\n",
              "      <td>Sox17</td>\n",
              "      <td>poumon/ foie/ pancréas</td>\n",
              "      <td>MSSPDAGYAS DDQSQTQSAL PAVMAGLGPC PWAESLSPIG D...</td>\n",
              "      <td>Depletion of definitive gut endoderm in Sox17-...</td>\n",
              "    </tr>\n",
              "    <tr>\n",
              "      <th>9</th>\n",
              "      <td>Runx1</td>\n",
              "      <td>Sang</td>\n",
              "      <td>MRIPVDASTS RRFTPPSTAL SPGKMSEALP LGAPDAGAAL A...</td>\n",
              "      <td>Expression pattern of Runt-related transcripti...</td>\n",
              "    </tr>\n",
              "    <tr>\n",
              "      <th>10</th>\n",
              "      <td>LIF (Leukemia Inhibitory Factor)</td>\n",
              "      <td>NaN</td>\n",
              "      <td>MKVLAAGVVP LLLVLHWKHG AGSPLPITPV NATCAIRHPC HN...</td>\n",
              "      <td>https://www.ncbi.nlm.nih.gov/pmc/articles/PMC4...</td>\n",
              "    </tr>\n",
              "  </tbody>\n",
              "</table>\n",
              "</div>\n",
              "    <div class=\"colab-df-buttons\">\n",
              "\n",
              "  <div class=\"colab-df-container\">\n",
              "    <button class=\"colab-df-convert\" onclick=\"convertToInteractive('df-347b79f1-8564-41ad-b1b6-c0a1376fb38c')\"\n",
              "            title=\"Convert this dataframe to an interactive table.\"\n",
              "            style=\"display:none;\">\n",
              "\n",
              "  <svg xmlns=\"http://www.w3.org/2000/svg\" height=\"24px\" viewBox=\"0 -960 960 960\">\n",
              "    <path d=\"M120-120v-720h720v720H120Zm60-500h600v-160H180v160Zm220 220h160v-160H400v160Zm0 220h160v-160H400v160ZM180-400h160v-160H180v160Zm440 0h160v-160H620v160ZM180-180h160v-160H180v160Zm440 0h160v-160H620v160Z\"/>\n",
              "  </svg>\n",
              "    </button>\n",
              "\n",
              "  <style>\n",
              "    .colab-df-container {\n",
              "      display:flex;\n",
              "      gap: 12px;\n",
              "    }\n",
              "\n",
              "    .colab-df-convert {\n",
              "      background-color: #E8F0FE;\n",
              "      border: none;\n",
              "      border-radius: 50%;\n",
              "      cursor: pointer;\n",
              "      display: none;\n",
              "      fill: #1967D2;\n",
              "      height: 32px;\n",
              "      padding: 0 0 0 0;\n",
              "      width: 32px;\n",
              "    }\n",
              "\n",
              "    .colab-df-convert:hover {\n",
              "      background-color: #E2EBFA;\n",
              "      box-shadow: 0px 1px 2px rgba(60, 64, 67, 0.3), 0px 1px 3px 1px rgba(60, 64, 67, 0.15);\n",
              "      fill: #174EA6;\n",
              "    }\n",
              "\n",
              "    .colab-df-buttons div {\n",
              "      margin-bottom: 4px;\n",
              "    }\n",
              "\n",
              "    [theme=dark] .colab-df-convert {\n",
              "      background-color: #3B4455;\n",
              "      fill: #D2E3FC;\n",
              "    }\n",
              "\n",
              "    [theme=dark] .colab-df-convert:hover {\n",
              "      background-color: #434B5C;\n",
              "      box-shadow: 0px 1px 3px 1px rgba(0, 0, 0, 0.15);\n",
              "      filter: drop-shadow(0px 1px 2px rgba(0, 0, 0, 0.3));\n",
              "      fill: #FFFFFF;\n",
              "    }\n",
              "  </style>\n",
              "\n",
              "    <script>\n",
              "      const buttonEl =\n",
              "        document.querySelector('#df-347b79f1-8564-41ad-b1b6-c0a1376fb38c button.colab-df-convert');\n",
              "      buttonEl.style.display =\n",
              "        google.colab.kernel.accessAllowed ? 'block' : 'none';\n",
              "\n",
              "      async function convertToInteractive(key) {\n",
              "        const element = document.querySelector('#df-347b79f1-8564-41ad-b1b6-c0a1376fb38c');\n",
              "        const dataTable =\n",
              "          await google.colab.kernel.invokeFunction('convertToInteractive',\n",
              "                                                    [key], {});\n",
              "        if (!dataTable) return;\n",
              "\n",
              "        const docLinkHtml = 'Like what you see? Visit the ' +\n",
              "          '<a target=\"_blank\" href=https://colab.research.google.com/notebooks/data_table.ipynb>data table notebook</a>'\n",
              "          + ' to learn more about interactive tables.';\n",
              "        element.innerHTML = '';\n",
              "        dataTable['output_type'] = 'display_data';\n",
              "        await google.colab.output.renderOutput(dataTable, element);\n",
              "        const docLink = document.createElement('div');\n",
              "        docLink.innerHTML = docLinkHtml;\n",
              "        element.appendChild(docLink);\n",
              "      }\n",
              "    </script>\n",
              "  </div>\n",
              "\n",
              "\n",
              "<div id=\"df-176f92a9-14ef-4e56-9a26-54e5722f8be2\">\n",
              "  <button class=\"colab-df-quickchart\" onclick=\"quickchart('df-176f92a9-14ef-4e56-9a26-54e5722f8be2')\"\n",
              "            title=\"Suggest charts\"\n",
              "            style=\"display:none;\">\n",
              "\n",
              "<svg xmlns=\"http://www.w3.org/2000/svg\" height=\"24px\"viewBox=\"0 0 24 24\"\n",
              "     width=\"24px\">\n",
              "    <g>\n",
              "        <path d=\"M19 3H5c-1.1 0-2 .9-2 2v14c0 1.1.9 2 2 2h14c1.1 0 2-.9 2-2V5c0-1.1-.9-2-2-2zM9 17H7v-7h2v7zm4 0h-2V7h2v10zm4 0h-2v-4h2v4z\"/>\n",
              "    </g>\n",
              "</svg>\n",
              "  </button>\n",
              "\n",
              "<style>\n",
              "  .colab-df-quickchart {\n",
              "      --bg-color: #E8F0FE;\n",
              "      --fill-color: #1967D2;\n",
              "      --hover-bg-color: #E2EBFA;\n",
              "      --hover-fill-color: #174EA6;\n",
              "      --disabled-fill-color: #AAA;\n",
              "      --disabled-bg-color: #DDD;\n",
              "  }\n",
              "\n",
              "  [theme=dark] .colab-df-quickchart {\n",
              "      --bg-color: #3B4455;\n",
              "      --fill-color: #D2E3FC;\n",
              "      --hover-bg-color: #434B5C;\n",
              "      --hover-fill-color: #FFFFFF;\n",
              "      --disabled-bg-color: #3B4455;\n",
              "      --disabled-fill-color: #666;\n",
              "  }\n",
              "\n",
              "  .colab-df-quickchart {\n",
              "    background-color: var(--bg-color);\n",
              "    border: none;\n",
              "    border-radius: 50%;\n",
              "    cursor: pointer;\n",
              "    display: none;\n",
              "    fill: var(--fill-color);\n",
              "    height: 32px;\n",
              "    padding: 0;\n",
              "    width: 32px;\n",
              "  }\n",
              "\n",
              "  .colab-df-quickchart:hover {\n",
              "    background-color: var(--hover-bg-color);\n",
              "    box-shadow: 0 1px 2px rgba(60, 64, 67, 0.3), 0 1px 3px 1px rgba(60, 64, 67, 0.15);\n",
              "    fill: var(--button-hover-fill-color);\n",
              "  }\n",
              "\n",
              "  .colab-df-quickchart-complete:disabled,\n",
              "  .colab-df-quickchart-complete:disabled:hover {\n",
              "    background-color: var(--disabled-bg-color);\n",
              "    fill: var(--disabled-fill-color);\n",
              "    box-shadow: none;\n",
              "  }\n",
              "\n",
              "  .colab-df-spinner {\n",
              "    border: 2px solid var(--fill-color);\n",
              "    border-color: transparent;\n",
              "    border-bottom-color: var(--fill-color);\n",
              "    animation:\n",
              "      spin 1s steps(1) infinite;\n",
              "  }\n",
              "\n",
              "  @keyframes spin {\n",
              "    0% {\n",
              "      border-color: transparent;\n",
              "      border-bottom-color: var(--fill-color);\n",
              "      border-left-color: var(--fill-color);\n",
              "    }\n",
              "    20% {\n",
              "      border-color: transparent;\n",
              "      border-left-color: var(--fill-color);\n",
              "      border-top-color: var(--fill-color);\n",
              "    }\n",
              "    30% {\n",
              "      border-color: transparent;\n",
              "      border-left-color: var(--fill-color);\n",
              "      border-top-color: var(--fill-color);\n",
              "      border-right-color: var(--fill-color);\n",
              "    }\n",
              "    40% {\n",
              "      border-color: transparent;\n",
              "      border-right-color: var(--fill-color);\n",
              "      border-top-color: var(--fill-color);\n",
              "    }\n",
              "    60% {\n",
              "      border-color: transparent;\n",
              "      border-right-color: var(--fill-color);\n",
              "    }\n",
              "    80% {\n",
              "      border-color: transparent;\n",
              "      border-right-color: var(--fill-color);\n",
              "      border-bottom-color: var(--fill-color);\n",
              "    }\n",
              "    90% {\n",
              "      border-color: transparent;\n",
              "      border-bottom-color: var(--fill-color);\n",
              "    }\n",
              "  }\n",
              "</style>\n",
              "\n",
              "  <script>\n",
              "    async function quickchart(key) {\n",
              "      const quickchartButtonEl =\n",
              "        document.querySelector('#' + key + ' button');\n",
              "      quickchartButtonEl.disabled = true;  // To prevent multiple clicks.\n",
              "      quickchartButtonEl.classList.add('colab-df-spinner');\n",
              "      try {\n",
              "        const charts = await google.colab.kernel.invokeFunction(\n",
              "            'suggestCharts', [key], {});\n",
              "      } catch (error) {\n",
              "        console.error('Error during call to suggestCharts:', error);\n",
              "      }\n",
              "      quickchartButtonEl.classList.remove('colab-df-spinner');\n",
              "      quickchartButtonEl.classList.add('colab-df-quickchart-complete');\n",
              "    }\n",
              "    (() => {\n",
              "      let quickchartButtonEl =\n",
              "        document.querySelector('#df-176f92a9-14ef-4e56-9a26-54e5722f8be2 button');\n",
              "      quickchartButtonEl.style.display =\n",
              "        google.colab.kernel.accessAllowed ? 'block' : 'none';\n",
              "    })();\n",
              "  </script>\n",
              "</div>\n",
              "\n",
              "  <div id=\"id_12ba1a57-ad9d-4d3b-8db4-b9f7ea296ff0\">\n",
              "    <style>\n",
              "      .colab-df-generate {\n",
              "        background-color: #E8F0FE;\n",
              "        border: none;\n",
              "        border-radius: 50%;\n",
              "        cursor: pointer;\n",
              "        display: none;\n",
              "        fill: #1967D2;\n",
              "        height: 32px;\n",
              "        padding: 0 0 0 0;\n",
              "        width: 32px;\n",
              "      }\n",
              "\n",
              "      .colab-df-generate:hover {\n",
              "        background-color: #E2EBFA;\n",
              "        box-shadow: 0px 1px 2px rgba(60, 64, 67, 0.3), 0px 1px 3px 1px rgba(60, 64, 67, 0.15);\n",
              "        fill: #174EA6;\n",
              "      }\n",
              "\n",
              "      [theme=dark] .colab-df-generate {\n",
              "        background-color: #3B4455;\n",
              "        fill: #D2E3FC;\n",
              "      }\n",
              "\n",
              "      [theme=dark] .colab-df-generate:hover {\n",
              "        background-color: #434B5C;\n",
              "        box-shadow: 0px 1px 3px 1px rgba(0, 0, 0, 0.15);\n",
              "        filter: drop-shadow(0px 1px 2px rgba(0, 0, 0, 0.3));\n",
              "        fill: #FFFFFF;\n",
              "      }\n",
              "    </style>\n",
              "    <button class=\"colab-df-generate\" onclick=\"generateWithVariable('df')\"\n",
              "            title=\"Generate code using this dataframe.\"\n",
              "            style=\"display:none;\">\n",
              "\n",
              "  <svg xmlns=\"http://www.w3.org/2000/svg\" height=\"24px\"viewBox=\"0 0 24 24\"\n",
              "       width=\"24px\">\n",
              "    <path d=\"M7,19H8.4L18.45,9,17,7.55,7,17.6ZM5,21V16.75L18.45,3.32a2,2,0,0,1,2.83,0l1.4,1.43a1.91,1.91,0,0,1,.58,1.4,1.91,1.91,0,0,1-.58,1.4L9.25,21ZM18.45,9,17,7.55Zm-12,3A5.31,5.31,0,0,0,4.9,8.1,5.31,5.31,0,0,0,1,6.5,5.31,5.31,0,0,0,4.9,4.9,5.31,5.31,0,0,0,6.5,1,5.31,5.31,0,0,0,8.1,4.9,5.31,5.31,0,0,0,12,6.5,5.46,5.46,0,0,0,6.5,12Z\"/>\n",
              "  </svg>\n",
              "    </button>\n",
              "    <script>\n",
              "      (() => {\n",
              "      const buttonEl =\n",
              "        document.querySelector('#id_12ba1a57-ad9d-4d3b-8db4-b9f7ea296ff0 button.colab-df-generate');\n",
              "      buttonEl.style.display =\n",
              "        google.colab.kernel.accessAllowed ? 'block' : 'none';\n",
              "\n",
              "      buttonEl.onclick = () => {\n",
              "        google.colab.notebook.generateWithVariable('df');\n",
              "      }\n",
              "      })();\n",
              "    </script>\n",
              "  </div>\n",
              "\n",
              "    </div>\n",
              "  </div>\n"
            ],
            "text/plain": [
              "                      protein Names             Cell target   \\\n",
              "0                              Nanog                 neurone   \n",
              "1                      Oct4 (POU5F1)                 neurone   \n",
              "2                               Sox2                 neurone   \n",
              "3                Ngn2 (Neurogenin 2)                 neurone   \n",
              "4                               Pax6            neurone/yeux   \n",
              "5                             Nestin                 neurone   \n",
              "6                          Brachyury      muscle / os tissu    \n",
              "7                              GATA4                   coeur   \n",
              "8                              Sox17  poumon/ foie/ pancréas   \n",
              "9                              Runx1                    Sang   \n",
              "10  LIF (Leukemia Inhibitory Factor)                     NaN   \n",
              "\n",
              "                                         RNA sequence  \\\n",
              "0    MSVDPACPQS LPCFEASDCK ESSPMPVICG PEENYPSLQM S...   \n",
              "1        MSVDPACPQS LPCFEASDCK ESSPMPVICG PEENYPSL...   \n",
              "2    MYNMMETELK PPGPQQTSGG GGGNSTAAAA GGNQKNSPDR V...   \n",
              "3    MFVKSETLEL KEEEDVLVLL GSASPALAAL TPLSSSADEE E...   \n",
              "4   MQNSHSGVNQ LGGVFVNGRP LPDSTRQKIV ELAHSGARPC DI...   \n",
              "5    MEGCMGEESF QMWELNRRLE AYLARVKALE EQNELLSAEL G...   \n",
              "6    MSSPGTESAG KSLQYRVDHL LSAVENELQA GSEKGDPTER E...   \n",
              "7    MYQSLAMAAN HGPPPGAYEA GGPGAFMHGA GAASSPVYVP T...   \n",
              "8    MSSPDAGYAS DDQSQTQSAL PAVMAGLGPC PWAESLSPIG D...   \n",
              "9    MRIPVDASTS RRFTPPSTAL SPGKMSEALP LGAPDAGAAL A...   \n",
              "10  MKVLAAGVVP LLLVLHWKHG AGSPLPITPV NATCAIRHPC HN...   \n",
              "\n",
              "                                  Paper research Link  \n",
              "0   Functional Expression Cloning of Nanog, a Plur...  \n",
              "1                                                 NaN  \n",
              "2   Multipotent cell lineages in early mouse devel...  \n",
              "3   Identification of neurogenin, a Vertebrate Neu...  \n",
              "4           Pax6; a pleiotropic player in development  \n",
              "5   Isolation of Neural Stem Cells from Whole Brai...  \n",
              "6            T-box Genes in Early Embryogenesis - PMC  \n",
              "7   Myocardial molecular biology: an introduction ...  \n",
              "8   Depletion of definitive gut endoderm in Sox17-...  \n",
              "9   Expression pattern of Runt-related transcripti...  \n",
              "10  https://www.ncbi.nlm.nih.gov/pmc/articles/PMC4...  "
            ]
          },
          "execution_count": 8,
          "metadata": {},
          "output_type": "execute_result"
        }
      ],
      "source": [
        "import pandas as pd\n",
        "df = pd.read_csv('aminos.csv')\n",
        "df"
      ]
    },
    {
      "cell_type": "code",
      "execution_count": null,
      "metadata": {
        "id": "IOUXLJM-UnSR"
      },
      "outputs": [],
      "source": [
        "amino_acid_list = df['RNA sequence'].tolist()"
      ]
    },
    {
      "cell_type": "code",
      "execution_count": null,
      "metadata": {
        "colab": {
          "base_uri": "https://localhost:8080/"
        },
        "id": "RE5sdp3fUrN4",
        "outputId": "d1b5f5f7-0cea-412a-94fe-1d7b0f02b109"
      },
      "outputs": [
        {
          "data": {
            "text/plain": [
              "11"
            ]
          },
          "execution_count": 10,
          "metadata": {},
          "output_type": "execute_result"
        }
      ],
      "source": [
        "len(amino_acid_list)"
      ]
    },
    {
      "cell_type": "code",
      "execution_count": null,
      "metadata": {
        "colab": {
          "base_uri": "https://localhost:8080/"
        },
        "id": "kHIS5ynDVQdv",
        "outputId": "a1568f46-b8d8-42af-cc2f-228ea1fa77fd"
      },
      "outputs": [
        {
          "name": "stdout",
          "output_type": "stream",
          "text": [
            "10\n"
          ]
        }
      ],
      "source": [
        "# Remove spaces and newlines\n",
        "processed_list = [''.join(sequence.split()) for sequence in amino_acid_list]\n",
        "\n",
        "# Remove duplicates by converting the list to a set and back to a list\n",
        "text_chunks = list(set(processed_list))\n",
        "\n",
        "print(len(text_chunks))"
      ]
    },
    {
      "cell_type": "code",
      "execution_count": null,
      "metadata": {
        "colab": {
          "base_uri": "https://localhost:8080/"
        },
        "id": "p0kKKRriJvH1",
        "outputId": "50d623c3-48ba-4863-dbba-a35111dc3e71"
      },
      "outputs": [
        {
          "data": {
            "text/plain": [
              "['MSSPDAGYASDDQSQTQSALPAVMAGLGPCPWAESLSPIGDMKVKGEAPANSGAPAGAAGRAKGESRIRRPMNAFMVWAKDERKRLAQQNPDLHNAELSKMLGKSWKALTLAEKRPFVEEAERLRVQHMQDHPNYKYRPRRRKQVKRLKRVEGGFLHGLAEPQAAALGPEGGRVAMDGLGLQFPEQGFPAGPPLLPPHMGGHYRDCQSLGAPPLDGYPLPTPDTSPLDGVDPDPAFFAAPMPGDCPAAGTYSYAQVSDYAGPPEPPAGPMHPRLGPEPAGPSIPGLLAPPSALHVYYGAMGSPGAGGGRGFQMQPQHQHQHQHQHHPPGPGQPSPPPEALPCRDGTDPSQPAELLGEVDRTEFEQYLHFVCKPEMGLPYQGHDSGVNLPDSHGAISSVVSDASSAVYYCNYPDV',\n",
              " 'MQNSHSGVNQLGGVFVNGRPLPDSTRQKIVELAHSGARPCDISRILQVSNGCVSKILGRYYETGSIRPRAIGGSKPRVATPEVVSKIAQYKRECPSIFAWEIRDRLLSEGVCTNDNIPSVSSINRVLRNLASEKQQMGADGMYDKLRMLNGQTGSWGTRPGWYPGTSVPGQPTQDGCQQQEGGGENTNSISSNGEDSDEAQMRLQLKRKLQRNRTSFTQEQIEALEKEFERTHYPDVFARERLAAKIDLPEARIQVWFSNRRAKWRREEKLRNQRRQASNTPSHIPISSSFSTSVYQPIPQPTTPVSSFTSGSMLGRTDTALTNTYSALPPMPSFTMANNLPMQPPVPSQTSSYSCMLPTSPSVNGRSYDTYTPPHMQTHMNSQPMGTSGTTSTGLISPGVSVPVQVPGSEPDMSQYWPRLQ',\n",
              " 'MEGCMGEESFQMWELNRRLEAYLARVKALEEQNELLSAELGGLRAQSADTSWRAHADDELAALRALVDQRWREKHAAEVARDNLAEELEGVAGRCQQLRLARERTTEEVARNRRAVEAEKCARAWLSSQVAELERELEALRVAHEEERVGLNAQAACAPRCPAPPRGPPAPAPEVEELARRLGEAWRGAVRGYQERVAHMETSLGQARERLGRAVQGAREGRLELQQLQAERGGLLERRAALEQRLEGRWQERLRATEKFQLAVEALEQEKQGLQSQIAQVLEGRQQLAHLKMSLSLEVATYRTLLEAENSRLQTPGGGSKTSLSFQDPKLELQFPRTPEGRRLGSLLPVLSPTSLPSPLPATLETPVPAFLKNQEFLQARTPTLASTPIPPTPQAPSPAVDAEIRAQDAPLSLLQTQGGRKQAPEPLRAEARVAIPASVLPGPEEPGGQRQEASTGQSPEDHASLAPPLSPDHSSLEAKDGESGGSRVFSICRGEGEGQIWGLVEKETAIEGKVVSSLQQEIWEEEDLNRKEIQDSQVPLEKETLKSLGEEIQESLKTLENQSHETLERENQECPRSLEEDLETLKSLEKENKELLKDVEVVRPLEKEAVGQLKPTGKEDTQTLQSLQKENQELMKSLEGNLETFLFPGTENQELVSSLQENLESLTALEKENQEPLRSPEVGDEEALRPLTKENQEPLRSLEDENKEAFRSLEKENQEPLKTLEEEDQSIVRPLETENHKSLRSLEEQDQETLRTLEKETQQRRRSLGEQDQMTLRPPEKVDLEPLKSLDQEIARPLENENQEFLKSLKEESVEAVKSLETEILESLKSAGQENLETLKSPETQAPLWTPEEINQGAMNPLEKEIQEPLESVEVNQETFRLLEEENQESLRSLGAWNLENLRSPEEVDKESQRNLEEEENLGKGEYQESLRSLEEEGQELPQSADVQRWEDTVEKDQELAQESPPGMAGVENEDEAELNLREQDGFTGKEEVVEQGELNATEEVWIPGEGHPESPEPKEQRGLVEGASVKGGAEGLQDPEGQSQQVGAPGLQAPQGLPEAIEPLVEDDVAPGGDQASPEVMLGSEPAMGESAAGAEPGPGQGVGGLGDPGHLTREEVMEPPLEEESLEAKRVQGLEGPRKDLEEAGGLGTEFSELPGKSRDPWEPPREGREESEAEAPRGAEEAFPAETLGHTGSDAPSPWPLGSEEAEEDVPPVLVSPSPTYTPILEDAPGPQPQAEGSQEASWGVQGRAEALGKVESEQEELGSGEIPEGPQEEGEESREESEEDELGETLPDSTPLGFYLRSPTSPRWDPTGEQRPPPQGETGKEGWDPAVLASEGLEAPPSEKEEGEEGEEECGRDSDLSEEFEDLGTEAPFLPGVPGEVAEPLGQVPQLLLDPAAWDRDGESDGFADEEESGEEGEEDQEEGREPGAGRWGPGSSVGSLQALSSSQRGEFLESDSVSVSVPWDDSLRGAVAGAPKTALETESQDSAEPSGSEEESDPVSLEREDKVPGPLEIPSGMEDAGPGADIIGVNGQGPNLEGKSQHVNGGVMNGLEQSEEVGQGMPLVSEGDRGSPFQEEEGSALKTSWAGAPVHLGQGQFLKFTQREGDRESWSSGED',\n",
              " 'MKVLAAGVVPLLLVLHWKHGAGSPLPITPVNATCAIRHPCHNNLMNQIRSQLAQLNGSANALFILYYTAQGEPFPNNLDKLCGPNVTDFPPFHANGTEKAKLVELYRIVVYLGTSLGNITRDQKILNPSALSLHSKLNATADILRGLLSNVLCRLCSKYHVGHVDVTYGPDTSGKDVFQKKKLGCQLLGKYKQIIAVLAQAF',\n",
              " 'MSVDPACPQSLPCFEASDCKESSPMPVICGPEENYPSLQMSSAEMPHTETVSPLPSSMDLLIQDSPDSSTSPKGKQPTSAEKSVAKKEDKVPVKKQKTRTVFSSTQLCVLNDRFQRQKYLSLQQMQELSNILNLSYKQVKTWFQNQRMKSKRWQKNNWPKNSNGVTQKASAPTYPSLYSSYHQGCLVNPTGNLPMWSNQTWNNSTWSNQTQNIQSWSNHSWNTQTWCTQSWNNQAWNSPFYNCGEESLQSCMQFQPNSPASDLEAALEAAGEGLNVIQQTTRYFSTPQTMDLFLNYSMNMQPEDV',\n",
              " 'MFVKSETLELKEEEDVLVLLGSASPALAALTPLSSSADEEEEEEPGASGGARRQRGAEAGQGARGGVAAGAEGCRPARLLGLVHDCKRRPSRARAVSRGAKTAETVQRIKKTRRLKANNRERNRMHNLNAALDALREVLPTFPEDAKLTKIETLRFAHNYIWALTETLRLADHCGGGGGGLPGALFSEAVLLSPGGASAALSSSGDSPSPASTWSCTNSPAPSSSVSSNSTSPYSCTLSPASPAGSDMDYWQPPPPDKHRYAPHLPIARDCI',\n",
              " 'MSSPGTESAGKSLQYRVDHLLSAVENELQAGSEKGDPTERELRVGLEESELWLRFKELTNEMIVTKNGRRMFPVLKVNVSGLDPNAMYSFLLDFVAADNHRWKYVNGEWVPGGKPEPQAPSCVYIHPDSPNFGAHWMKAPVSFSKVKLTNKLNGGGQIMLNSLHKYEPRIHIVRVGGPQRMITSHCFPETQFIAVTAYQNEEITALKIKYNPFAKAFLDAKERSDHKEMMEEPGDSQQPGYSQWGWLLPGTSTLCPPANPHPQFGGALSLPSTHSCDRYPTLRSHRSSPYPSPYAHRNNSPTYSDNSPACLSMLQSHDNWSSLGMPAHPSMLPVSHNASPPTSSSQYPSLWSVSNGAVTPGSQAAAVSNGLGAQFFRGSPAHYTPLTHPVSAPSSSGSPLYEGAAAATDIVDSQYDAAAQGRLIASWTPVSPPSM',\n",
              " 'MYNMMETELKPPGPQQTSGGGGGNSTAAAAGGNQKNSPDRVKRPMNAFMVWSRGQRRKMAQENPKMHNSEISKRLGAEWKLLSETEKRPFIDEAKRLRALHMKEHPDYKYRPRRKTKTLMKKDKYTLPGGLLAPGGNSMASGVGVGAGLGAGVNQRMDSYAHMNGWSNGSYSMMQDQLGYPQHPGLNAHGAAQMQPMHRYDVSALQYNSMTSSQTYMNGSPTYSMSYSQQGTPGMALGSMGSVVKSEASSSPPVVTSSSHSRAPCQAGDLRDMISMYLPGAEVPEPAAPSRLHMSQHYQSGPVPGTAINGTLPLSHM',\n",
              " 'MYQSLAMAANHGPPPGAYEAGGPGAFMHGAGAASSPVYVPTPRVPSSVLGLSYLQGGGAGSASGGASGGSSGGAASGAGPGTQQGSPGWSQAGADGAAYTPPPVSPRFSFPGTTGSLAAAAAAAAAREAAAYSSGGGAAGAGLAGREQYGRAGFAGSYSSPYPAYMADVGASWAAAAAASAGPFDSPVLHSLPGRANPAARHPNLDMFDDFSEGRECVNCGAMSTPLWRRDGTGHYLCNACGLYHKMNGINRPLIKPQRRLSASRRVGLSCANCQTTTTTLWRRNAEGEPVCNACGLYMKLHGVPRPLAMRKEGIQTRKRKPKNLNKSKTPAAPSGSESLPPASGASSNSSNATTSSSEEMRPIKTEPGLSSHYGHSSSVSQTFSVSAMSGHGPSIHPVLSALKLSPQGYASPVSQSPQTSSKQDSWNSLVLADSHGDIITA',\n",
              " 'MRIPVDASTSRRFTPPSTALSPGKMSEALPLGAPDAGAALAGKLRSGDRSMVEVLADHPGELVRTDSPNFLCSVLPTHWRCNKTLPIAFKVVALGDVPDGTLVTVMAGNDENYSAELRNATAAMKNQVARFNDLRFVGRSGRGKSFTLTITVFTNPPQVATYHRAIKITVDGPREPRRHRQKLDDQTKPGSLSFSERLSELEQLRRTAMRVSPHHPAPTPNPRASLNHSTAFNPQPQSQMQDTRQIQPSPPWSYDQSYQYLGSIASPSVHPATPISPGRASGMTTLSAELSSRLSTAPDLTAFSDPRQFPALPSISDPRMHYPGAFTYSPTPVTSGIGIGMSAMGSATRYHTYLPPPYPGSSQAQGGPFQASSPSYHLYYGASAGSYQFSMVGGERSPPRILPPCTNASTGSALLNPSLPNQSDVVEAEGSHSNSPTNMAPSARLEEAVWRPY']"
            ]
          },
          "execution_count": 12,
          "metadata": {},
          "output_type": "execute_result"
        }
      ],
      "source": [
        "text_chunks"
      ]
    },
    {
      "cell_type": "markdown",
      "metadata": {
        "id": "4N1WCpruHyxB"
      },
      "source": [
        "#### Download Embeddings :"
      ]
    },
    {
      "cell_type": "code",
      "execution_count": null,
      "metadata": {
        "id": "HErl3092XqQJ"
      },
      "outputs": [],
      "source": [
        "# class ESM2Embeddings:\n",
        "#     def __init__(self, model_name=\"facebook/esm2_t33_650M_UR50D\"):\n",
        "#         self.tokenizer = AutoTokenizer.from_pretrained(model_name)\n",
        "#         self.model = EsmModel.from_pretrained(model_name)\n",
        "\n",
        "#     def embed_sequence(self, sequence):\n",
        "#         inputs = self.tokenizer(sequence, return_tensors=\"pt\")\n",
        "#         with torch.no_grad():\n",
        "#             outputs = self.model(**inputs)\n",
        "#             embeddings = outputs.last_hidden_state\n",
        "#         # Average the embeddings across the sequence length (excluding special tokens)\n",
        "#         sequence_embedding = embeddings[0, 1:-1, :].mean(dim=0)  # Shape: (d,)\n",
        "#         return sequence_embedding.numpy()"
      ]
    },
    {
      "cell_type": "code",
      "execution_count": null,
      "metadata": {
        "id": "ZEyTqiAo2H_b"
      },
      "outputs": [],
      "source": [
        "# embeddings = ESM2Embeddings()"
      ]
    },
    {
      "cell_type": "code",
      "execution_count": null,
      "metadata": {
        "id": "xm7LbRLU2DXn"
      },
      "outputs": [],
      "source": [
        "from typing import List\n",
        "\n",
        "class ESM2Embeddings:\n",
        "    def __init__(self, model_name: str):\n",
        "        self.tokenizer = AutoTokenizer.from_pretrained(model_name)\n",
        "        self.model = EsmModel.from_pretrained(model_name)\n",
        "\n",
        "    def embed_documents(self, documents: List[str]) -> List[List[float]]:\n",
        "        embeddings = []\n",
        "        for doc in documents:\n",
        "            inputs = self.tokenizer(doc, return_tensors=\"pt\", truncation=True, padding=True)\n",
        "            with torch.no_grad():\n",
        "                outputs = self.model(**inputs)\n",
        "                doc_embedding = outputs.last_hidden_state.mean(dim=1).squeeze().tolist()\n",
        "            embeddings.append(doc_embedding)\n",
        "        return embeddings\n",
        "\n",
        "    def embed_query(self, query: str) -> List[float]:\n",
        "        inputs = self.tokenizer(query, return_tensors=\"pt\", truncation=True, padding=True)\n",
        "        with torch.no_grad():\n",
        "            outputs = self.model(**inputs)\n",
        "            query_embedding = outputs.last_hidden_state.mean(dim=1).squeeze().tolist()\n",
        "        return query_embedding"
      ]
    },
    {
      "cell_type": "code",
      "execution_count": null,
      "metadata": {
        "id": "FV-8ztgU2GtH"
      },
      "outputs": [],
      "source": [
        "embedding = ESM2Embeddings(model_name=\"facebook/esm2_t33_650M_UR50D\")"
      ]
    },
    {
      "cell_type": "markdown",
      "metadata": {
        "id": "no4dQP8XZ80S"
      },
      "source": [
        "##### test test :"
      ]
    },
    {
      "cell_type": "code",
      "execution_count": null,
      "metadata": {
        "colab": {
          "base_uri": "https://localhost:8080/",
          "height": 323,
          "referenced_widgets": [
            "66014348346846c59490170d9a808cff",
            "b79ef6acdabb4e5081ebe0cab7f2c2a9",
            "fb2e50ec4a3a429797a8eb8b08eb558f",
            "ae667a204c6a45348fdfd170baef7596",
            "eee781f5c0c2450698e6e3c560ab0ac7",
            "7f1a77c0ed7a48ceb6dad147b399ce52",
            "bdbdee69102e414897ba486ce43507d7",
            "f814cf4ac5e842f6a40e20cab0ded0ff",
            "0ea2e0ee33cc4f3c9cc6022056c0f38b",
            "5e8b410c03294f1d929289aa347f9b6b",
            "0707b060af7b49e18308f39060011b5e",
            "0fc8a1a3d18e4d248b4f23e25664c01a",
            "316686b1e1f8486b9298dae5dd9664e4",
            "172847470818433aad7e0297607d72c4",
            "fe17c6ecbd28424c925c3152f23aa3dc",
            "10487bb3ec0c45c8965870a753708f10",
            "dad264e5b6534548ab113a7eea166aa6",
            "32cfc784cf234eb6bc183d52cca877db",
            "cf275566629b4a94b426be070178fab1",
            "791eb47138b14120ae9a100343646ea5",
            "3a6b5d74cded499e8b7906b5d202ba5f",
            "009f6a78ce4f4a929ce725baaf117fe5",
            "d70d0b44c81d470ba5159e687c2acc67",
            "817c2591ad004f3ab4b09a90c8e763f9",
            "5c03ec0e84e447c0bd1078b1a3195fb1",
            "635ca86a9ebf41cca9cba73316d72f7a",
            "1d91334e097c47b2a8bd014773ff8cc4",
            "ab8e5ee6363b41e1ae5866d8617d0813",
            "8cbe31b7f3c54ef3b79540172f9f87d7",
            "e6926eb73f564ac89cdd3900760cf161",
            "2ae95fdf67614bcd9eabfff242bb8bf4",
            "a28941ecd07f435bb0af82b61d727452",
            "2fcbfcf4cdc443dcaaaeb53e946bbb6d",
            "43f5048369024ffdbf8ca9811556be4c",
            "f0df93fb7ec04f15845676889ab555d8",
            "c49c8e0dab044bc589f8a1640a8d2965",
            "b4d44518e57e44f1a9b618fd4b68e6b1",
            "502a7f820dff4a1f8e442fc19a79fa91",
            "1914d0f6dfee48af8ed4cf6fe31515da",
            "5d46586beb884a418c4e0bfe5411a930",
            "51fa496e2af34a4b9de974dbbab794ca",
            "7546b262a6254fd3aa4f85aec133d2c1",
            "aa52857147974c0281feccbd3bb7af15",
            "206b333621534ca3be6aed00f194f5ab",
            "cd531d8440fe41efbbf52f8cf2503fbc",
            "0554f36c98fd4dbe9374632949ca93b9",
            "638052606be34a7eab2f1107b383ded3",
            "6c7ce93cf088405782650b64b848cd02",
            "3ba38061aed745d788c6bf2ec3cfe153",
            "b0bba4bbd6fc49e099ac6b332e9514ed",
            "46a5df568db647e8ae62519832ee4433",
            "9327cd4af0294062b656503ddcf9840d",
            "11cdd0e8468b448fbe75771b6776689a",
            "efa9b10d4b604fcb92f95bf1882c7735",
            "253d7ef774c24e15aa5c4ac8b6a8884b"
          ]
        },
        "id": "MTmLnfeyXsVl",
        "outputId": "36a8ab3a-4f9f-4bb4-a858-90740308c9bb"
      },
      "outputs": [
        {
          "name": "stderr",
          "output_type": "stream",
          "text": [
            "/usr/local/lib/python3.10/dist-packages/huggingface_hub/utils/_token.py:89: UserWarning: \n",
            "The secret `HF_TOKEN` does not exist in your Colab secrets.\n",
            "To authenticate with the Hugging Face Hub, create a token in your settings tab (https://huggingface.co/settings/tokens), set it as secret in your Google Colab and restart your session.\n",
            "You will be able to reuse this secret in all of your notebooks.\n",
            "Please note that authentication is recommended but still optional to access public models or datasets.\n",
            "  warnings.warn(\n"
          ]
        },
        {
          "data": {
            "application/vnd.jupyter.widget-view+json": {
              "model_id": "66014348346846c59490170d9a808cff",
              "version_major": 2,
              "version_minor": 0
            },
            "text/plain": [
              "tokenizer_config.json:   0%|          | 0.00/95.0 [00:00<?, ?B/s]"
            ]
          },
          "metadata": {},
          "output_type": "display_data"
        },
        {
          "data": {
            "application/vnd.jupyter.widget-view+json": {
              "model_id": "0fc8a1a3d18e4d248b4f23e25664c01a",
              "version_major": 2,
              "version_minor": 0
            },
            "text/plain": [
              "vocab.txt:   0%|          | 0.00/93.0 [00:00<?, ?B/s]"
            ]
          },
          "metadata": {},
          "output_type": "display_data"
        },
        {
          "data": {
            "application/vnd.jupyter.widget-view+json": {
              "model_id": "d70d0b44c81d470ba5159e687c2acc67",
              "version_major": 2,
              "version_minor": 0
            },
            "text/plain": [
              "special_tokens_map.json:   0%|          | 0.00/125 [00:00<?, ?B/s]"
            ]
          },
          "metadata": {},
          "output_type": "display_data"
        },
        {
          "data": {
            "application/vnd.jupyter.widget-view+json": {
              "model_id": "43f5048369024ffdbf8ca9811556be4c",
              "version_major": 2,
              "version_minor": 0
            },
            "text/plain": [
              "config.json:   0%|          | 0.00/724 [00:00<?, ?B/s]"
            ]
          },
          "metadata": {},
          "output_type": "display_data"
        },
        {
          "data": {
            "application/vnd.jupyter.widget-view+json": {
              "model_id": "cd531d8440fe41efbbf52f8cf2503fbc",
              "version_major": 2,
              "version_minor": 0
            },
            "text/plain": [
              "model.safetensors:   0%|          | 0.00/2.61G [00:00<?, ?B/s]"
            ]
          },
          "metadata": {},
          "output_type": "display_data"
        },
        {
          "name": "stderr",
          "output_type": "stream",
          "text": [
            "Some weights of EsmModel were not initialized from the model checkpoint at facebook/esm2_t33_650M_UR50D and are newly initialized: ['esm.pooler.dense.bias', 'esm.pooler.dense.weight']\n",
            "You should probably TRAIN this model on a down-stream task to be able to use it for predictions and inference.\n"
          ]
        }
      ],
      "source": [
        "# # Load the tokenizer and model\n",
        "# model_name = \"facebook/esm2_t33_650M_UR50D\"\n",
        "# tokenizer = AutoTokenizer.from_pretrained(model_name)\n",
        "# model = EsmModel.from_pretrained(model_name)"
      ]
    },
    {
      "cell_type": "code",
      "execution_count": null,
      "metadata": {
        "id": "lULwQc_hX8Ew"
      },
      "outputs": [],
      "source": [
        "# sequence = \"MKTVRQERLKSIVRILERSKEPVSGAQLAEELSVSRQVIVQDIAYLRSLGYNIVATPRGYVLAGG\""
      ]
    },
    {
      "cell_type": "code",
      "execution_count": null,
      "metadata": {
        "id": "1gyIMMI1Xu0X"
      },
      "outputs": [],
      "source": [
        "# inputs = tokenizer(sequence, return_tensors=\"pt\")"
      ]
    },
    {
      "cell_type": "code",
      "execution_count": null,
      "metadata": {
        "id": "6bTBXsBOX-mS"
      },
      "outputs": [],
      "source": [
        "# with torch.no_grad():\n",
        "#     outputs = model(**inputs)\n",
        "#     embeddings = outputs.last_hidden_state"
      ]
    },
    {
      "cell_type": "code",
      "execution_count": null,
      "metadata": {
        "id": "Gu6qNTWhX-o-"
      },
      "outputs": [],
      "source": [
        "# # Average the embeddings across the sequence length (excluding special tokens)\n",
        "# # The first and last tokens are usually special tokens (e.g., <CLS> and <SEP>)\n",
        "# # So we average from index 1 to -1\n",
        "# sequence_embedding = embeddings[0, 1:-1, :].mean(dim=0)  # Shape: (d,)"
      ]
    },
    {
      "cell_type": "code",
      "execution_count": null,
      "metadata": {
        "colab": {
          "base_uri": "https://localhost:8080/"
        },
        "id": "oWXGhjySX-sa",
        "outputId": "12ea4e6a-1d6c-4bee-e187-dd89f1dc2f15"
      },
      "outputs": [
        {
          "name": "stdout",
          "output_type": "stream",
          "text": [
            "tensor([ 0.0614, -0.0687,  0.0430,  ..., -0.1642, -0.0678,  0.0446])\n",
            "Embedding shape: torch.Size([1280])\n"
          ]
        }
      ],
      "source": [
        "# # Print the resulting embedding\n",
        "# print(sequence_embedding)\n",
        "# print(\"Embedding shape:\", sequence_embedding.shape)  # Should be (d,)"
      ]
    },
    {
      "cell_type": "markdown",
      "metadata": {
        "id": "l5_EJcvVHyxC"
      },
      "source": [
        "#### Embedding chunks and storing them into pinecone :"
      ]
    },
    {
      "cell_type": "code",
      "execution_count": null,
      "metadata": {
        "id": "QM5FQyYIHyxC"
      },
      "outputs": [],
      "source": [
        "pc = Pinecone(api_key=PINECONE_API_KEY) # ,environment=PINECONE_API_ENV"
      ]
    },
    {
      "cell_type": "code",
      "execution_count": null,
      "metadata": {
        "colab": {
          "background_save": true
        },
        "id": "2bIUBvffHyxC"
      },
      "outputs": [],
      "source": [
        "if index_name not in pc.list_indexes().names():\n",
        "    print(index_name , \" Does not exist !\")\n",
        "    pc.create_index(\n",
        "        name=index_name,\n",
        "        dimension=1280,\n",
        "        metric='cosine',\n",
        "        spec=ServerlessSpec(\n",
        "            cloud='aws',\n",
        "            region='us-east-1'\n",
        "        )\n",
        "    )"
      ]
    },
    {
      "cell_type": "code",
      "execution_count": null,
      "metadata": {
        "colab": {
          "background_save": true
        },
        "id": "kaOzWwp2HyxD",
        "outputId": "70450528-69cc-40c5-bd5f-87e96cbe8952"
      },
      "outputs": [
        {
          "data": {
            "text/plain": [
              "{'dimension': 1280,\n",
              " 'index_fullness': 0.0,\n",
              " 'namespaces': {'': {'vector_count': 10}},\n",
              " 'total_vector_count': 10}"
            ]
          },
          "execution_count": 10,
          "metadata": {},
          "output_type": "execute_result"
        }
      ],
      "source": [
        "index = pc.Index(index_name)\n",
        "index.describe_index_stats()\n",
        "# index.delete(delete_all=True, namespace='......')"
      ]
    },
    {
      "cell_type": "code",
      "execution_count": null,
      "metadata": {
        "colab": {
          "background_save": true
        },
        "id": "cjOglZVhHyxD"
      },
      "outputs": [],
      "source": [
        "vectorstore = PineconeVectorStore(\n",
        "    index=index,\n",
        "    pinecone_api_key = PINECONE_API_KEY,\n",
        "    embedding=embedding,\n",
        "    index_name=index_name\n",
        ")"
      ]
    },
    {
      "cell_type": "code",
      "execution_count": null,
      "metadata": {
        "colab": {
          "base_uri": "https://localhost:8080/"
        },
        "id": "wxhtcu8hHyxD",
        "outputId": "c3ca956c-0a2a-4f03-c288-037ea393cfa0"
      },
      "outputs": [
        {
          "name": "stderr",
          "output_type": "stream",
          "text": [
            "Asking to truncate to max_length but no maximum length is provided and the model has no predefined maximum length. Default to no truncation.\n"
          ]
        },
        {
          "data": {
            "text/plain": [
              "['5cf13156-46b2-44bb-b774-e1a21ed67a7d',\n",
              " '176abc72-1979-4b5a-842e-bd08fd6a630a',\n",
              " '93f442f5-7b6a-40e1-ba82-199b174dea6a',\n",
              " '2a71849c-5a2a-402b-ab83-3a9f14397a24',\n",
              " 'c22c0ec2-59ef-446d-8867-44753a210479',\n",
              " 'be62bcd4-fc25-4b4f-8ea0-22241ea22532',\n",
              " '8ea3e997-4f90-4100-9df8-154f1a402bce',\n",
              " 'ec32d047-4815-421e-8d62-44168fcc5608',\n",
              " 'c0ddcd7d-3247-4ad3-84e2-2106d133fa6c',\n",
              " '9907ebc8-f266-4ff7-86d9-3cc9f9b761bc']"
            ]
          },
          "execution_count": 26,
          "metadata": {},
          "output_type": "execute_result"
        }
      ],
      "source": [
        "# vectorstore.add_texts(text_chunks)"
      ]
    },
    {
      "cell_type": "code",
      "execution_count": null,
      "metadata": {
        "colab": {
          "background_save": true
        },
        "id": "RpCWxnkKHyxD",
        "outputId": "0d3405a3-0e10-47f7-e9bd-f7acb031e7f1"
      },
      "outputs": [
        {
          "data": {
            "text/plain": [
              "{'dimension': 1280,\n",
              " 'index_fullness': 0.0,\n",
              " 'namespaces': {'': {'vector_count': 10}},\n",
              " 'total_vector_count': 10}"
            ]
          },
          "execution_count": 12,
          "metadata": {},
          "output_type": "execute_result"
        }
      ],
      "source": [
        "index.describe_index_stats()"
      ]
    },
    {
      "cell_type": "markdown",
      "metadata": {
        "id": "L7Hd74-FR6dY"
      },
      "source": [
        "#### To amino acid & Similarity Search :"
      ]
    },
    {
      "cell_type": "code",
      "execution_count": null,
      "metadata": {
        "colab": {
          "background_save": true
        },
        "id": "WMWG2_a-TnZD"
      },
      "outputs": [],
      "source": [
        "# DNA to RNA Transcription\n",
        "def transcribe_dna_to_rna(dna_seq):\n",
        "    return dna_seq.replace('T', 'U')\n",
        "\n",
        "# RNA to Amino Acid Translation\n",
        "def translate_rna_to_protein(rna_seq):\n",
        "    codon_table = {\n",
        "        'UUU': 'F', 'UUC': 'F', 'UUA': 'L', 'UUG': 'L',\n",
        "        'UCU': 'S', 'UCC': 'S', 'UCA': 'S', 'UCG': 'S',\n",
        "        'UAU': 'Y', 'UAC': 'Y', 'UAA': '*', 'UAG': '*',\n",
        "        'UGU': 'C', 'UGC': 'C', 'UGA': '*', 'UGG': 'W',\n",
        "        'CUU': 'L', 'CUC': 'L', 'CUA': 'L', 'CUG': 'L',\n",
        "        'CCU': 'P', 'CCC': 'P', 'CCA': 'P', 'CCG': 'P',\n",
        "        'CAU': 'H', 'CAC': 'H', 'CAA': 'Q', 'CAG': 'Q',\n",
        "        'CGU': 'R', 'CGC': 'R', 'CGA': 'R', 'CGG': 'R',\n",
        "        'AUU': 'I', 'AUC': 'I', 'AUA': 'I', 'AUG': 'M',\n",
        "        'ACU': 'T', 'ACC': 'T', 'ACA': 'T', 'ACG': 'T',\n",
        "        'AAU': 'N', 'AAC': 'N', 'AAA': 'K', 'AAG': 'K',\n",
        "        'AGU': 'S', 'AGC': 'S', 'AGA': 'R', 'AGG': 'R',\n",
        "        'GUU': 'V', 'GUC': 'V', 'GUA': 'V', 'GUG': 'V',\n",
        "        'GCU': 'A', 'GCC': 'A', 'GCA': 'A', 'GCG': 'A',\n",
        "        'GAU': 'D', 'GAC': 'D', 'GAA': 'E', 'GAG': 'E',\n",
        "        'GGU': 'G', 'GGC': 'G', 'GGA': 'G', 'GGG': 'G'\n",
        "    }\n",
        "    protein_seq = \"\"\n",
        "    for i in range(0, len(rna_seq) - 2, 3):\n",
        "        codon = rna_seq[i:i+3]\n",
        "        protein_seq += codon_table.get(codon, 'X')  # 'X' for unknown codons\n",
        "    return protein_seq\n",
        "\n",
        "# Main Function to Convert DNA to Protein\n",
        "def dna_to_protein(dna_seq):\n",
        "    rna_seq = transcribe_dna_to_rna(dna_seq)\n",
        "    protein_seq = translate_rna_to_protein(rna_seq)\n",
        "    return protein_seq"
      ]
    },
    {
      "cell_type": "code",
      "execution_count": null,
      "metadata": {
        "id": "UdaVIm51XJqI"
      },
      "outputs": [],
      "source": [
        "dna_seq =  \"CTTTATTGATTGGTGTGCCGTTTTCTCTGGAAGCCTCTTAAGAACACAGTGGCACAGGCTGGGTGGAGCCGTCCC\"\n",
        "protein_seq = dna_to_protein(dna_seq)"
      ]
    },
    {
      "cell_type": "code",
      "execution_count": null,
      "metadata": {
        "id": "aFLsQtFuer3n"
      },
      "outputs": [],
      "source": [
        "len(protein_seq)"
      ]
    },
    {
      "cell_type": "code",
      "execution_count": null,
      "metadata": {
        "id": "a2USS8OeHyxE"
      },
      "outputs": [],
      "source": [
        "pc = Pinecone(api_key=PINECONE_API_KEY) # ,environment=PINECONE_API_ENV\n",
        "index = pc.Index(index_name)"
      ]
    },
    {
      "cell_type": "code",
      "execution_count": null,
      "metadata": {
        "id": "qLLlyyP8HyxE"
      },
      "outputs": [],
      "source": [
        "queryvectorstore = PineconeVectorStore(\n",
        "    index=index,\n",
        "    pinecone_api_key = PINECONE_API_KEY,\n",
        "    embedding=embedding,\n",
        "    index_name=index_name\n",
        ")"
      ]
    },
    {
      "cell_type": "code",
      "execution_count": null,
      "metadata": {
        "colab": {
          "base_uri": "https://localhost:8080/"
        },
        "id": "tFy7eGOKHyxE",
        "outputId": "591194c8-b317-448d-8718-70c3c6a0f6cf"
      },
      "outputs": [
        {
          "name": "stdout",
          "output_type": "stream",
          "text": [
            "Result [Document(page_content='MRIPVDASTSRRFTPPSTALSPGKMSEALPLGAPDAGAALAGKLRSGDRSMVEVLADHPGELVRTDSPNFLCSVLPTHWRCNKTLPIAFKVVALGDVPDGTLVTVMAGNDENYSAELRNATAAMKNQVARFNDLRFVGRSGRGKSFTLTITVFTNPPQVATYHRAIKITVDGPREPRRHRQKLDDQTKPGSLSFSERLSELEQLRRTAMRVSPHHPAPTPNPRASLNHSTAFNPQPQSQMQDTRQIQPSPPWSYDQSYQYLGSIASPSVHPATPISPGRASGMTTLSAELSSRLSTAPDLTAFSDPRQFPALPSISDPRMHYPGAFTYSPTPVTSGIGIGMSAMGSATRYHTYLPPPYPGSSQAQGGPFQASSPSYHLYYGASAGSYQFSMVGGERSPPRILPPCTNASTGSALLNPSLPNQSDVVEAEGSHSNSPTNMAPSARLEEAVWRPY'), Document(page_content='MSSPDAGYASDDQSQTQSALPAVMAGLGPCPWAESLSPIGDMKVKGEAPANSGAPAGAAGRAKGESRIRRPMNAFMVWAKDERKRLAQQNPDLHNAELSKMLGKSWKALTLAEKRPFVEEAERLRVQHMQDHPNYKYRPRRRKQVKRLKRVEGGFLHGLAEPQAAALGPEGGRVAMDGLGLQFPEQGFPAGPPLLPPHMGGHYRDCQSLGAPPLDGYPLPTPDTSPLDGVDPDPAFFAAPMPGDCPAAGTYSYAQVSDYAGPPEPPAGPMHPRLGPEPAGPSIPGLLAPPSALHVYYGAMGSPGAGGGRGFQMQPQHQHQHQHQHHPPGPGQPSPPPEALPCRDGTDPSQPAELLGEVDRTEFEQYLHFVCKPEMGLPYQGHDSGVNLPDSHGAISSVVSDASSAVYYCNYPDV'), Document(page_content='MSSPGTESAGKSLQYRVDHLLSAVENELQAGSEKGDPTERELRVGLEESELWLRFKELTNEMIVTKNGRRMFPVLKVNVSGLDPNAMYSFLLDFVAADNHRWKYVNGEWVPGGKPEPQAPSCVYIHPDSPNFGAHWMKAPVSFSKVKLTNKLNGGGQIMLNSLHKYEPRIHIVRVGGPQRMITSHCFPETQFIAVTAYQNEEITALKIKYNPFAKAFLDAKERSDHKEMMEEPGDSQQPGYSQWGWLLPGTSTLCPPANPHPQFGGALSLPSTHSCDRYPTLRSHRSSPYPSPYAHRNNSPTYSDNSPACLSMLQSHDNWSSLGMPAHPSMLPVSHNASPPTSSSQYPSLWSVSNGAVTPGSQAAAVSNGLGAQFFRGSPAHYTPLTHPVSAPSSSGSPLYEGAAAATDIVDSQYDAAAQGRLIASWTPVSPPSM')]\n"
          ]
        }
      ],
      "source": [
        "query = protein_seq\n",
        "docs = queryvectorstore.similarity_search(query, k=3)\n",
        "print(\"Result\", docs)"
      ]
    },
    {
      "cell_type": "markdown",
      "metadata": {
        "id": "6Jr1gESZHyxE"
      },
      "source": [
        "#### Using the llama model:"
      ]
    },
    {
      "cell_type": "code",
      "execution_count": null,
      "metadata": {
        "id": "dFG5MPxNHyxE"
      },
      "outputs": [],
      "source": [
        "prompt_template=\"\"\"\n",
        "Use the following pieces of information to answer the user's question.\n",
        "If you don't know the answer, just say that you don't know, don't try to make up an answer.\n",
        "\n",
        "Context: {context}\n",
        "Question: {question}\n",
        "\n",
        "Only return the helpful answer below and nothing else.\n",
        "Helpful answer:\n",
        "\"\"\""
      ]
    },
    {
      "cell_type": "code",
      "execution_count": null,
      "metadata": {
        "id": "LACWnmGkHyxF"
      },
      "outputs": [],
      "source": [
        "PROMPT=PromptTemplate(template=prompt_template, input_variables=[\"context\", \"question\"])\n",
        "chain_type_kwargs={\"prompt\": PROMPT}"
      ]
    },
    {
      "cell_type": "code",
      "execution_count": null,
      "metadata": {
        "id": "qE_8V-w6HyxF"
      },
      "outputs": [],
      "source": [
        "llm=CTransformers(model=\"model/llama-2-7b-chat.ggmlv3.q4_0.bin\",\n",
        "                model_type=\"llama\",\n",
        "                config={'max_new_tokens':512,\n",
        "                        'temperature':0.8})"
      ]
    },
    {
      "cell_type": "code",
      "execution_count": null,
      "metadata": {
        "id": "8S6U1v9vHyxF"
      },
      "outputs": [],
      "source": [
        "qa=RetrievalQA.from_chain_type(\n",
        "    llm=llm,\n",
        "    chain_type=\"stuff\",\n",
        "    retriever=queryvectorstore.as_retriever(search_kwargs={'k': 2}),\n",
        "    return_source_documents=True,\n",
        "    chain_type_kwargs=chain_type_kwargs)"
      ]
    },
    {
      "cell_type": "code",
      "source": [
        "while True:\n",
        "    user_input=input(f\"Input Prompt:\")\n",
        "    result=qa.invoke({\"query\": user_input})\n",
        "    print(\"Response : \", result[\"result\"])"
      ],
      "metadata": {
        "id": "IRZKQ9z3Y5j-"
      },
      "execution_count": null,
      "outputs": []
    }
  ],
  "metadata": {
    "accelerator": "GPU",
    "colab": {
      "gpuType": "T4",
      "provenance": []
    },
    "kernelspec": {
      "display_name": "Python 3",
      "name": "python3"
    },
    "language_info": {
      "codemirror_mode": {
        "name": "ipython",
        "version": 3
      },
      "file_extension": ".py",
      "mimetype": "text/x-python",
      "name": "python",
      "nbconvert_exporter": "python",
      "pygments_lexer": "ipython3",
      "version": "3.8.18"
    },
    "widgets": {
      "application/vnd.jupyter.widget-state+json": {
        "009f6a78ce4f4a929ce725baaf117fe5": {
          "model_module": "@jupyter-widgets/controls",
          "model_module_version": "1.5.0",
          "model_name": "DescriptionStyleModel",
          "state": {
            "_model_module": "@jupyter-widgets/controls",
            "_model_module_version": "1.5.0",
            "_model_name": "DescriptionStyleModel",
            "_view_count": null,
            "_view_module": "@jupyter-widgets/base",
            "_view_module_version": "1.2.0",
            "_view_name": "StyleView",
            "description_width": ""
          }
        },
        "0554f36c98fd4dbe9374632949ca93b9": {
          "model_module": "@jupyter-widgets/controls",
          "model_module_version": "1.5.0",
          "model_name": "HTMLModel",
          "state": {
            "_dom_classes": [],
            "_model_module": "@jupyter-widgets/controls",
            "_model_module_version": "1.5.0",
            "_model_name": "HTMLModel",
            "_view_count": null,
            "_view_module": "@jupyter-widgets/controls",
            "_view_module_version": "1.5.0",
            "_view_name": "HTMLView",
            "description": "",
            "description_tooltip": null,
            "layout": "IPY_MODEL_b0bba4bbd6fc49e099ac6b332e9514ed",
            "placeholder": "​",
            "style": "IPY_MODEL_46a5df568db647e8ae62519832ee4433",
            "value": "model.safetensors: 100%"
          }
        },
        "0707b060af7b49e18308f39060011b5e": {
          "model_module": "@jupyter-widgets/controls",
          "model_module_version": "1.5.0",
          "model_name": "DescriptionStyleModel",
          "state": {
            "_model_module": "@jupyter-widgets/controls",
            "_model_module_version": "1.5.0",
            "_model_name": "DescriptionStyleModel",
            "_view_count": null,
            "_view_module": "@jupyter-widgets/base",
            "_view_module_version": "1.2.0",
            "_view_name": "StyleView",
            "description_width": ""
          }
        },
        "0ea2e0ee33cc4f3c9cc6022056c0f38b": {
          "model_module": "@jupyter-widgets/controls",
          "model_module_version": "1.5.0",
          "model_name": "ProgressStyleModel",
          "state": {
            "_model_module": "@jupyter-widgets/controls",
            "_model_module_version": "1.5.0",
            "_model_name": "ProgressStyleModel",
            "_view_count": null,
            "_view_module": "@jupyter-widgets/base",
            "_view_module_version": "1.2.0",
            "_view_name": "StyleView",
            "bar_color": null,
            "description_width": ""
          }
        },
        "0fc8a1a3d18e4d248b4f23e25664c01a": {
          "model_module": "@jupyter-widgets/controls",
          "model_module_version": "1.5.0",
          "model_name": "HBoxModel",
          "state": {
            "_dom_classes": [],
            "_model_module": "@jupyter-widgets/controls",
            "_model_module_version": "1.5.0",
            "_model_name": "HBoxModel",
            "_view_count": null,
            "_view_module": "@jupyter-widgets/controls",
            "_view_module_version": "1.5.0",
            "_view_name": "HBoxView",
            "box_style": "",
            "children": [
              "IPY_MODEL_316686b1e1f8486b9298dae5dd9664e4",
              "IPY_MODEL_172847470818433aad7e0297607d72c4",
              "IPY_MODEL_fe17c6ecbd28424c925c3152f23aa3dc"
            ],
            "layout": "IPY_MODEL_10487bb3ec0c45c8965870a753708f10"
          }
        },
        "10487bb3ec0c45c8965870a753708f10": {
          "model_module": "@jupyter-widgets/base",
          "model_module_version": "1.2.0",
          "model_name": "LayoutModel",
          "state": {
            "_model_module": "@jupyter-widgets/base",
            "_model_module_version": "1.2.0",
            "_model_name": "LayoutModel",
            "_view_count": null,
            "_view_module": "@jupyter-widgets/base",
            "_view_module_version": "1.2.0",
            "_view_name": "LayoutView",
            "align_content": null,
            "align_items": null,
            "align_self": null,
            "border": null,
            "bottom": null,
            "display": null,
            "flex": null,
            "flex_flow": null,
            "grid_area": null,
            "grid_auto_columns": null,
            "grid_auto_flow": null,
            "grid_auto_rows": null,
            "grid_column": null,
            "grid_gap": null,
            "grid_row": null,
            "grid_template_areas": null,
            "grid_template_columns": null,
            "grid_template_rows": null,
            "height": null,
            "justify_content": null,
            "justify_items": null,
            "left": null,
            "margin": null,
            "max_height": null,
            "max_width": null,
            "min_height": null,
            "min_width": null,
            "object_fit": null,
            "object_position": null,
            "order": null,
            "overflow": null,
            "overflow_x": null,
            "overflow_y": null,
            "padding": null,
            "right": null,
            "top": null,
            "visibility": null,
            "width": null
          }
        },
        "11cdd0e8468b448fbe75771b6776689a": {
          "model_module": "@jupyter-widgets/controls",
          "model_module_version": "1.5.0",
          "model_name": "ProgressStyleModel",
          "state": {
            "_model_module": "@jupyter-widgets/controls",
            "_model_module_version": "1.5.0",
            "_model_name": "ProgressStyleModel",
            "_view_count": null,
            "_view_module": "@jupyter-widgets/base",
            "_view_module_version": "1.2.0",
            "_view_name": "StyleView",
            "bar_color": null,
            "description_width": ""
          }
        },
        "172847470818433aad7e0297607d72c4": {
          "model_module": "@jupyter-widgets/controls",
          "model_module_version": "1.5.0",
          "model_name": "FloatProgressModel",
          "state": {
            "_dom_classes": [],
            "_model_module": "@jupyter-widgets/controls",
            "_model_module_version": "1.5.0",
            "_model_name": "FloatProgressModel",
            "_view_count": null,
            "_view_module": "@jupyter-widgets/controls",
            "_view_module_version": "1.5.0",
            "_view_name": "ProgressView",
            "bar_style": "success",
            "description": "",
            "description_tooltip": null,
            "layout": "IPY_MODEL_cf275566629b4a94b426be070178fab1",
            "max": 93,
            "min": 0,
            "orientation": "horizontal",
            "style": "IPY_MODEL_791eb47138b14120ae9a100343646ea5",
            "value": 93
          }
        },
        "1914d0f6dfee48af8ed4cf6fe31515da": {
          "model_module": "@jupyter-widgets/base",
          "model_module_version": "1.2.0",
          "model_name": "LayoutModel",
          "state": {
            "_model_module": "@jupyter-widgets/base",
            "_model_module_version": "1.2.0",
            "_model_name": "LayoutModel",
            "_view_count": null,
            "_view_module": "@jupyter-widgets/base",
            "_view_module_version": "1.2.0",
            "_view_name": "LayoutView",
            "align_content": null,
            "align_items": null,
            "align_self": null,
            "border": null,
            "bottom": null,
            "display": null,
            "flex": null,
            "flex_flow": null,
            "grid_area": null,
            "grid_auto_columns": null,
            "grid_auto_flow": null,
            "grid_auto_rows": null,
            "grid_column": null,
            "grid_gap": null,
            "grid_row": null,
            "grid_template_areas": null,
            "grid_template_columns": null,
            "grid_template_rows": null,
            "height": null,
            "justify_content": null,
            "justify_items": null,
            "left": null,
            "margin": null,
            "max_height": null,
            "max_width": null,
            "min_height": null,
            "min_width": null,
            "object_fit": null,
            "object_position": null,
            "order": null,
            "overflow": null,
            "overflow_x": null,
            "overflow_y": null,
            "padding": null,
            "right": null,
            "top": null,
            "visibility": null,
            "width": null
          }
        },
        "1d91334e097c47b2a8bd014773ff8cc4": {
          "model_module": "@jupyter-widgets/base",
          "model_module_version": "1.2.0",
          "model_name": "LayoutModel",
          "state": {
            "_model_module": "@jupyter-widgets/base",
            "_model_module_version": "1.2.0",
            "_model_name": "LayoutModel",
            "_view_count": null,
            "_view_module": "@jupyter-widgets/base",
            "_view_module_version": "1.2.0",
            "_view_name": "LayoutView",
            "align_content": null,
            "align_items": null,
            "align_self": null,
            "border": null,
            "bottom": null,
            "display": null,
            "flex": null,
            "flex_flow": null,
            "grid_area": null,
            "grid_auto_columns": null,
            "grid_auto_flow": null,
            "grid_auto_rows": null,
            "grid_column": null,
            "grid_gap": null,
            "grid_row": null,
            "grid_template_areas": null,
            "grid_template_columns": null,
            "grid_template_rows": null,
            "height": null,
            "justify_content": null,
            "justify_items": null,
            "left": null,
            "margin": null,
            "max_height": null,
            "max_width": null,
            "min_height": null,
            "min_width": null,
            "object_fit": null,
            "object_position": null,
            "order": null,
            "overflow": null,
            "overflow_x": null,
            "overflow_y": null,
            "padding": null,
            "right": null,
            "top": null,
            "visibility": null,
            "width": null
          }
        },
        "206b333621534ca3be6aed00f194f5ab": {
          "model_module": "@jupyter-widgets/controls",
          "model_module_version": "1.5.0",
          "model_name": "DescriptionStyleModel",
          "state": {
            "_model_module": "@jupyter-widgets/controls",
            "_model_module_version": "1.5.0",
            "_model_name": "DescriptionStyleModel",
            "_view_count": null,
            "_view_module": "@jupyter-widgets/base",
            "_view_module_version": "1.2.0",
            "_view_name": "StyleView",
            "description_width": ""
          }
        },
        "253d7ef774c24e15aa5c4ac8b6a8884b": {
          "model_module": "@jupyter-widgets/controls",
          "model_module_version": "1.5.0",
          "model_name": "DescriptionStyleModel",
          "state": {
            "_model_module": "@jupyter-widgets/controls",
            "_model_module_version": "1.5.0",
            "_model_name": "DescriptionStyleModel",
            "_view_count": null,
            "_view_module": "@jupyter-widgets/base",
            "_view_module_version": "1.2.0",
            "_view_name": "StyleView",
            "description_width": ""
          }
        },
        "2ae95fdf67614bcd9eabfff242bb8bf4": {
          "model_module": "@jupyter-widgets/controls",
          "model_module_version": "1.5.0",
          "model_name": "ProgressStyleModel",
          "state": {
            "_model_module": "@jupyter-widgets/controls",
            "_model_module_version": "1.5.0",
            "_model_name": "ProgressStyleModel",
            "_view_count": null,
            "_view_module": "@jupyter-widgets/base",
            "_view_module_version": "1.2.0",
            "_view_name": "StyleView",
            "bar_color": null,
            "description_width": ""
          }
        },
        "2fcbfcf4cdc443dcaaaeb53e946bbb6d": {
          "model_module": "@jupyter-widgets/controls",
          "model_module_version": "1.5.0",
          "model_name": "DescriptionStyleModel",
          "state": {
            "_model_module": "@jupyter-widgets/controls",
            "_model_module_version": "1.5.0",
            "_model_name": "DescriptionStyleModel",
            "_view_count": null,
            "_view_module": "@jupyter-widgets/base",
            "_view_module_version": "1.2.0",
            "_view_name": "StyleView",
            "description_width": ""
          }
        },
        "316686b1e1f8486b9298dae5dd9664e4": {
          "model_module": "@jupyter-widgets/controls",
          "model_module_version": "1.5.0",
          "model_name": "HTMLModel",
          "state": {
            "_dom_classes": [],
            "_model_module": "@jupyter-widgets/controls",
            "_model_module_version": "1.5.0",
            "_model_name": "HTMLModel",
            "_view_count": null,
            "_view_module": "@jupyter-widgets/controls",
            "_view_module_version": "1.5.0",
            "_view_name": "HTMLView",
            "description": "",
            "description_tooltip": null,
            "layout": "IPY_MODEL_dad264e5b6534548ab113a7eea166aa6",
            "placeholder": "​",
            "style": "IPY_MODEL_32cfc784cf234eb6bc183d52cca877db",
            "value": "vocab.txt: 100%"
          }
        },
        "32cfc784cf234eb6bc183d52cca877db": {
          "model_module": "@jupyter-widgets/controls",
          "model_module_version": "1.5.0",
          "model_name": "DescriptionStyleModel",
          "state": {
            "_model_module": "@jupyter-widgets/controls",
            "_model_module_version": "1.5.0",
            "_model_name": "DescriptionStyleModel",
            "_view_count": null,
            "_view_module": "@jupyter-widgets/base",
            "_view_module_version": "1.2.0",
            "_view_name": "StyleView",
            "description_width": ""
          }
        },
        "3a6b5d74cded499e8b7906b5d202ba5f": {
          "model_module": "@jupyter-widgets/base",
          "model_module_version": "1.2.0",
          "model_name": "LayoutModel",
          "state": {
            "_model_module": "@jupyter-widgets/base",
            "_model_module_version": "1.2.0",
            "_model_name": "LayoutModel",
            "_view_count": null,
            "_view_module": "@jupyter-widgets/base",
            "_view_module_version": "1.2.0",
            "_view_name": "LayoutView",
            "align_content": null,
            "align_items": null,
            "align_self": null,
            "border": null,
            "bottom": null,
            "display": null,
            "flex": null,
            "flex_flow": null,
            "grid_area": null,
            "grid_auto_columns": null,
            "grid_auto_flow": null,
            "grid_auto_rows": null,
            "grid_column": null,
            "grid_gap": null,
            "grid_row": null,
            "grid_template_areas": null,
            "grid_template_columns": null,
            "grid_template_rows": null,
            "height": null,
            "justify_content": null,
            "justify_items": null,
            "left": null,
            "margin": null,
            "max_height": null,
            "max_width": null,
            "min_height": null,
            "min_width": null,
            "object_fit": null,
            "object_position": null,
            "order": null,
            "overflow": null,
            "overflow_x": null,
            "overflow_y": null,
            "padding": null,
            "right": null,
            "top": null,
            "visibility": null,
            "width": null
          }
        },
        "3ba38061aed745d788c6bf2ec3cfe153": {
          "model_module": "@jupyter-widgets/base",
          "model_module_version": "1.2.0",
          "model_name": "LayoutModel",
          "state": {
            "_model_module": "@jupyter-widgets/base",
            "_model_module_version": "1.2.0",
            "_model_name": "LayoutModel",
            "_view_count": null,
            "_view_module": "@jupyter-widgets/base",
            "_view_module_version": "1.2.0",
            "_view_name": "LayoutView",
            "align_content": null,
            "align_items": null,
            "align_self": null,
            "border": null,
            "bottom": null,
            "display": null,
            "flex": null,
            "flex_flow": null,
            "grid_area": null,
            "grid_auto_columns": null,
            "grid_auto_flow": null,
            "grid_auto_rows": null,
            "grid_column": null,
            "grid_gap": null,
            "grid_row": null,
            "grid_template_areas": null,
            "grid_template_columns": null,
            "grid_template_rows": null,
            "height": null,
            "justify_content": null,
            "justify_items": null,
            "left": null,
            "margin": null,
            "max_height": null,
            "max_width": null,
            "min_height": null,
            "min_width": null,
            "object_fit": null,
            "object_position": null,
            "order": null,
            "overflow": null,
            "overflow_x": null,
            "overflow_y": null,
            "padding": null,
            "right": null,
            "top": null,
            "visibility": null,
            "width": null
          }
        },
        "43f5048369024ffdbf8ca9811556be4c": {
          "model_module": "@jupyter-widgets/controls",
          "model_module_version": "1.5.0",
          "model_name": "HBoxModel",
          "state": {
            "_dom_classes": [],
            "_model_module": "@jupyter-widgets/controls",
            "_model_module_version": "1.5.0",
            "_model_name": "HBoxModel",
            "_view_count": null,
            "_view_module": "@jupyter-widgets/controls",
            "_view_module_version": "1.5.0",
            "_view_name": "HBoxView",
            "box_style": "",
            "children": [
              "IPY_MODEL_f0df93fb7ec04f15845676889ab555d8",
              "IPY_MODEL_c49c8e0dab044bc589f8a1640a8d2965",
              "IPY_MODEL_b4d44518e57e44f1a9b618fd4b68e6b1"
            ],
            "layout": "IPY_MODEL_502a7f820dff4a1f8e442fc19a79fa91"
          }
        },
        "46a5df568db647e8ae62519832ee4433": {
          "model_module": "@jupyter-widgets/controls",
          "model_module_version": "1.5.0",
          "model_name": "DescriptionStyleModel",
          "state": {
            "_model_module": "@jupyter-widgets/controls",
            "_model_module_version": "1.5.0",
            "_model_name": "DescriptionStyleModel",
            "_view_count": null,
            "_view_module": "@jupyter-widgets/base",
            "_view_module_version": "1.2.0",
            "_view_name": "StyleView",
            "description_width": ""
          }
        },
        "502a7f820dff4a1f8e442fc19a79fa91": {
          "model_module": "@jupyter-widgets/base",
          "model_module_version": "1.2.0",
          "model_name": "LayoutModel",
          "state": {
            "_model_module": "@jupyter-widgets/base",
            "_model_module_version": "1.2.0",
            "_model_name": "LayoutModel",
            "_view_count": null,
            "_view_module": "@jupyter-widgets/base",
            "_view_module_version": "1.2.0",
            "_view_name": "LayoutView",
            "align_content": null,
            "align_items": null,
            "align_self": null,
            "border": null,
            "bottom": null,
            "display": null,
            "flex": null,
            "flex_flow": null,
            "grid_area": null,
            "grid_auto_columns": null,
            "grid_auto_flow": null,
            "grid_auto_rows": null,
            "grid_column": null,
            "grid_gap": null,
            "grid_row": null,
            "grid_template_areas": null,
            "grid_template_columns": null,
            "grid_template_rows": null,
            "height": null,
            "justify_content": null,
            "justify_items": null,
            "left": null,
            "margin": null,
            "max_height": null,
            "max_width": null,
            "min_height": null,
            "min_width": null,
            "object_fit": null,
            "object_position": null,
            "order": null,
            "overflow": null,
            "overflow_x": null,
            "overflow_y": null,
            "padding": null,
            "right": null,
            "top": null,
            "visibility": null,
            "width": null
          }
        },
        "51fa496e2af34a4b9de974dbbab794ca": {
          "model_module": "@jupyter-widgets/base",
          "model_module_version": "1.2.0",
          "model_name": "LayoutModel",
          "state": {
            "_model_module": "@jupyter-widgets/base",
            "_model_module_version": "1.2.0",
            "_model_name": "LayoutModel",
            "_view_count": null,
            "_view_module": "@jupyter-widgets/base",
            "_view_module_version": "1.2.0",
            "_view_name": "LayoutView",
            "align_content": null,
            "align_items": null,
            "align_self": null,
            "border": null,
            "bottom": null,
            "display": null,
            "flex": null,
            "flex_flow": null,
            "grid_area": null,
            "grid_auto_columns": null,
            "grid_auto_flow": null,
            "grid_auto_rows": null,
            "grid_column": null,
            "grid_gap": null,
            "grid_row": null,
            "grid_template_areas": null,
            "grid_template_columns": null,
            "grid_template_rows": null,
            "height": null,
            "justify_content": null,
            "justify_items": null,
            "left": null,
            "margin": null,
            "max_height": null,
            "max_width": null,
            "min_height": null,
            "min_width": null,
            "object_fit": null,
            "object_position": null,
            "order": null,
            "overflow": null,
            "overflow_x": null,
            "overflow_y": null,
            "padding": null,
            "right": null,
            "top": null,
            "visibility": null,
            "width": null
          }
        },
        "5c03ec0e84e447c0bd1078b1a3195fb1": {
          "model_module": "@jupyter-widgets/controls",
          "model_module_version": "1.5.0",
          "model_name": "FloatProgressModel",
          "state": {
            "_dom_classes": [],
            "_model_module": "@jupyter-widgets/controls",
            "_model_module_version": "1.5.0",
            "_model_name": "FloatProgressModel",
            "_view_count": null,
            "_view_module": "@jupyter-widgets/controls",
            "_view_module_version": "1.5.0",
            "_view_name": "ProgressView",
            "bar_style": "success",
            "description": "",
            "description_tooltip": null,
            "layout": "IPY_MODEL_e6926eb73f564ac89cdd3900760cf161",
            "max": 125,
            "min": 0,
            "orientation": "horizontal",
            "style": "IPY_MODEL_2ae95fdf67614bcd9eabfff242bb8bf4",
            "value": 125
          }
        },
        "5d46586beb884a418c4e0bfe5411a930": {
          "model_module": "@jupyter-widgets/controls",
          "model_module_version": "1.5.0",
          "model_name": "DescriptionStyleModel",
          "state": {
            "_model_module": "@jupyter-widgets/controls",
            "_model_module_version": "1.5.0",
            "_model_name": "DescriptionStyleModel",
            "_view_count": null,
            "_view_module": "@jupyter-widgets/base",
            "_view_module_version": "1.2.0",
            "_view_name": "StyleView",
            "description_width": ""
          }
        },
        "5e8b410c03294f1d929289aa347f9b6b": {
          "model_module": "@jupyter-widgets/base",
          "model_module_version": "1.2.0",
          "model_name": "LayoutModel",
          "state": {
            "_model_module": "@jupyter-widgets/base",
            "_model_module_version": "1.2.0",
            "_model_name": "LayoutModel",
            "_view_count": null,
            "_view_module": "@jupyter-widgets/base",
            "_view_module_version": "1.2.0",
            "_view_name": "LayoutView",
            "align_content": null,
            "align_items": null,
            "align_self": null,
            "border": null,
            "bottom": null,
            "display": null,
            "flex": null,
            "flex_flow": null,
            "grid_area": null,
            "grid_auto_columns": null,
            "grid_auto_flow": null,
            "grid_auto_rows": null,
            "grid_column": null,
            "grid_gap": null,
            "grid_row": null,
            "grid_template_areas": null,
            "grid_template_columns": null,
            "grid_template_rows": null,
            "height": null,
            "justify_content": null,
            "justify_items": null,
            "left": null,
            "margin": null,
            "max_height": null,
            "max_width": null,
            "min_height": null,
            "min_width": null,
            "object_fit": null,
            "object_position": null,
            "order": null,
            "overflow": null,
            "overflow_x": null,
            "overflow_y": null,
            "padding": null,
            "right": null,
            "top": null,
            "visibility": null,
            "width": null
          }
        },
        "635ca86a9ebf41cca9cba73316d72f7a": {
          "model_module": "@jupyter-widgets/controls",
          "model_module_version": "1.5.0",
          "model_name": "HTMLModel",
          "state": {
            "_dom_classes": [],
            "_model_module": "@jupyter-widgets/controls",
            "_model_module_version": "1.5.0",
            "_model_name": "HTMLModel",
            "_view_count": null,
            "_view_module": "@jupyter-widgets/controls",
            "_view_module_version": "1.5.0",
            "_view_name": "HTMLView",
            "description": "",
            "description_tooltip": null,
            "layout": "IPY_MODEL_a28941ecd07f435bb0af82b61d727452",
            "placeholder": "​",
            "style": "IPY_MODEL_2fcbfcf4cdc443dcaaaeb53e946bbb6d",
            "value": " 125/125 [00:00&lt;00:00, 7.16kB/s]"
          }
        },
        "638052606be34a7eab2f1107b383ded3": {
          "model_module": "@jupyter-widgets/controls",
          "model_module_version": "1.5.0",
          "model_name": "FloatProgressModel",
          "state": {
            "_dom_classes": [],
            "_model_module": "@jupyter-widgets/controls",
            "_model_module_version": "1.5.0",
            "_model_name": "FloatProgressModel",
            "_view_count": null,
            "_view_module": "@jupyter-widgets/controls",
            "_view_module_version": "1.5.0",
            "_view_name": "ProgressView",
            "bar_style": "success",
            "description": "",
            "description_tooltip": null,
            "layout": "IPY_MODEL_9327cd4af0294062b656503ddcf9840d",
            "max": 2609506392,
            "min": 0,
            "orientation": "horizontal",
            "style": "IPY_MODEL_11cdd0e8468b448fbe75771b6776689a",
            "value": 2609506392
          }
        },
        "66014348346846c59490170d9a808cff": {
          "model_module": "@jupyter-widgets/controls",
          "model_module_version": "1.5.0",
          "model_name": "HBoxModel",
          "state": {
            "_dom_classes": [],
            "_model_module": "@jupyter-widgets/controls",
            "_model_module_version": "1.5.0",
            "_model_name": "HBoxModel",
            "_view_count": null,
            "_view_module": "@jupyter-widgets/controls",
            "_view_module_version": "1.5.0",
            "_view_name": "HBoxView",
            "box_style": "",
            "children": [
              "IPY_MODEL_b79ef6acdabb4e5081ebe0cab7f2c2a9",
              "IPY_MODEL_fb2e50ec4a3a429797a8eb8b08eb558f",
              "IPY_MODEL_ae667a204c6a45348fdfd170baef7596"
            ],
            "layout": "IPY_MODEL_eee781f5c0c2450698e6e3c560ab0ac7"
          }
        },
        "6c7ce93cf088405782650b64b848cd02": {
          "model_module": "@jupyter-widgets/controls",
          "model_module_version": "1.5.0",
          "model_name": "HTMLModel",
          "state": {
            "_dom_classes": [],
            "_model_module": "@jupyter-widgets/controls",
            "_model_module_version": "1.5.0",
            "_model_name": "HTMLModel",
            "_view_count": null,
            "_view_module": "@jupyter-widgets/controls",
            "_view_module_version": "1.5.0",
            "_view_name": "HTMLView",
            "description": "",
            "description_tooltip": null,
            "layout": "IPY_MODEL_efa9b10d4b604fcb92f95bf1882c7735",
            "placeholder": "​",
            "style": "IPY_MODEL_253d7ef774c24e15aa5c4ac8b6a8884b",
            "value": " 2.61G/2.61G [02:30&lt;00:00, 18.9MB/s]"
          }
        },
        "7546b262a6254fd3aa4f85aec133d2c1": {
          "model_module": "@jupyter-widgets/controls",
          "model_module_version": "1.5.0",
          "model_name": "ProgressStyleModel",
          "state": {
            "_model_module": "@jupyter-widgets/controls",
            "_model_module_version": "1.5.0",
            "_model_name": "ProgressStyleModel",
            "_view_count": null,
            "_view_module": "@jupyter-widgets/base",
            "_view_module_version": "1.2.0",
            "_view_name": "StyleView",
            "bar_color": null,
            "description_width": ""
          }
        },
        "791eb47138b14120ae9a100343646ea5": {
          "model_module": "@jupyter-widgets/controls",
          "model_module_version": "1.5.0",
          "model_name": "ProgressStyleModel",
          "state": {
            "_model_module": "@jupyter-widgets/controls",
            "_model_module_version": "1.5.0",
            "_model_name": "ProgressStyleModel",
            "_view_count": null,
            "_view_module": "@jupyter-widgets/base",
            "_view_module_version": "1.2.0",
            "_view_name": "StyleView",
            "bar_color": null,
            "description_width": ""
          }
        },
        "7f1a77c0ed7a48ceb6dad147b399ce52": {
          "model_module": "@jupyter-widgets/base",
          "model_module_version": "1.2.0",
          "model_name": "LayoutModel",
          "state": {
            "_model_module": "@jupyter-widgets/base",
            "_model_module_version": "1.2.0",
            "_model_name": "LayoutModel",
            "_view_count": null,
            "_view_module": "@jupyter-widgets/base",
            "_view_module_version": "1.2.0",
            "_view_name": "LayoutView",
            "align_content": null,
            "align_items": null,
            "align_self": null,
            "border": null,
            "bottom": null,
            "display": null,
            "flex": null,
            "flex_flow": null,
            "grid_area": null,
            "grid_auto_columns": null,
            "grid_auto_flow": null,
            "grid_auto_rows": null,
            "grid_column": null,
            "grid_gap": null,
            "grid_row": null,
            "grid_template_areas": null,
            "grid_template_columns": null,
            "grid_template_rows": null,
            "height": null,
            "justify_content": null,
            "justify_items": null,
            "left": null,
            "margin": null,
            "max_height": null,
            "max_width": null,
            "min_height": null,
            "min_width": null,
            "object_fit": null,
            "object_position": null,
            "order": null,
            "overflow": null,
            "overflow_x": null,
            "overflow_y": null,
            "padding": null,
            "right": null,
            "top": null,
            "visibility": null,
            "width": null
          }
        },
        "817c2591ad004f3ab4b09a90c8e763f9": {
          "model_module": "@jupyter-widgets/controls",
          "model_module_version": "1.5.0",
          "model_name": "HTMLModel",
          "state": {
            "_dom_classes": [],
            "_model_module": "@jupyter-widgets/controls",
            "_model_module_version": "1.5.0",
            "_model_name": "HTMLModel",
            "_view_count": null,
            "_view_module": "@jupyter-widgets/controls",
            "_view_module_version": "1.5.0",
            "_view_name": "HTMLView",
            "description": "",
            "description_tooltip": null,
            "layout": "IPY_MODEL_ab8e5ee6363b41e1ae5866d8617d0813",
            "placeholder": "​",
            "style": "IPY_MODEL_8cbe31b7f3c54ef3b79540172f9f87d7",
            "value": "special_tokens_map.json: 100%"
          }
        },
        "8cbe31b7f3c54ef3b79540172f9f87d7": {
          "model_module": "@jupyter-widgets/controls",
          "model_module_version": "1.5.0",
          "model_name": "DescriptionStyleModel",
          "state": {
            "_model_module": "@jupyter-widgets/controls",
            "_model_module_version": "1.5.0",
            "_model_name": "DescriptionStyleModel",
            "_view_count": null,
            "_view_module": "@jupyter-widgets/base",
            "_view_module_version": "1.2.0",
            "_view_name": "StyleView",
            "description_width": ""
          }
        },
        "9327cd4af0294062b656503ddcf9840d": {
          "model_module": "@jupyter-widgets/base",
          "model_module_version": "1.2.0",
          "model_name": "LayoutModel",
          "state": {
            "_model_module": "@jupyter-widgets/base",
            "_model_module_version": "1.2.0",
            "_model_name": "LayoutModel",
            "_view_count": null,
            "_view_module": "@jupyter-widgets/base",
            "_view_module_version": "1.2.0",
            "_view_name": "LayoutView",
            "align_content": null,
            "align_items": null,
            "align_self": null,
            "border": null,
            "bottom": null,
            "display": null,
            "flex": null,
            "flex_flow": null,
            "grid_area": null,
            "grid_auto_columns": null,
            "grid_auto_flow": null,
            "grid_auto_rows": null,
            "grid_column": null,
            "grid_gap": null,
            "grid_row": null,
            "grid_template_areas": null,
            "grid_template_columns": null,
            "grid_template_rows": null,
            "height": null,
            "justify_content": null,
            "justify_items": null,
            "left": null,
            "margin": null,
            "max_height": null,
            "max_width": null,
            "min_height": null,
            "min_width": null,
            "object_fit": null,
            "object_position": null,
            "order": null,
            "overflow": null,
            "overflow_x": null,
            "overflow_y": null,
            "padding": null,
            "right": null,
            "top": null,
            "visibility": null,
            "width": null
          }
        },
        "a28941ecd07f435bb0af82b61d727452": {
          "model_module": "@jupyter-widgets/base",
          "model_module_version": "1.2.0",
          "model_name": "LayoutModel",
          "state": {
            "_model_module": "@jupyter-widgets/base",
            "_model_module_version": "1.2.0",
            "_model_name": "LayoutModel",
            "_view_count": null,
            "_view_module": "@jupyter-widgets/base",
            "_view_module_version": "1.2.0",
            "_view_name": "LayoutView",
            "align_content": null,
            "align_items": null,
            "align_self": null,
            "border": null,
            "bottom": null,
            "display": null,
            "flex": null,
            "flex_flow": null,
            "grid_area": null,
            "grid_auto_columns": null,
            "grid_auto_flow": null,
            "grid_auto_rows": null,
            "grid_column": null,
            "grid_gap": null,
            "grid_row": null,
            "grid_template_areas": null,
            "grid_template_columns": null,
            "grid_template_rows": null,
            "height": null,
            "justify_content": null,
            "justify_items": null,
            "left": null,
            "margin": null,
            "max_height": null,
            "max_width": null,
            "min_height": null,
            "min_width": null,
            "object_fit": null,
            "object_position": null,
            "order": null,
            "overflow": null,
            "overflow_x": null,
            "overflow_y": null,
            "padding": null,
            "right": null,
            "top": null,
            "visibility": null,
            "width": null
          }
        },
        "aa52857147974c0281feccbd3bb7af15": {
          "model_module": "@jupyter-widgets/base",
          "model_module_version": "1.2.0",
          "model_name": "LayoutModel",
          "state": {
            "_model_module": "@jupyter-widgets/base",
            "_model_module_version": "1.2.0",
            "_model_name": "LayoutModel",
            "_view_count": null,
            "_view_module": "@jupyter-widgets/base",
            "_view_module_version": "1.2.0",
            "_view_name": "LayoutView",
            "align_content": null,
            "align_items": null,
            "align_self": null,
            "border": null,
            "bottom": null,
            "display": null,
            "flex": null,
            "flex_flow": null,
            "grid_area": null,
            "grid_auto_columns": null,
            "grid_auto_flow": null,
            "grid_auto_rows": null,
            "grid_column": null,
            "grid_gap": null,
            "grid_row": null,
            "grid_template_areas": null,
            "grid_template_columns": null,
            "grid_template_rows": null,
            "height": null,
            "justify_content": null,
            "justify_items": null,
            "left": null,
            "margin": null,
            "max_height": null,
            "max_width": null,
            "min_height": null,
            "min_width": null,
            "object_fit": null,
            "object_position": null,
            "order": null,
            "overflow": null,
            "overflow_x": null,
            "overflow_y": null,
            "padding": null,
            "right": null,
            "top": null,
            "visibility": null,
            "width": null
          }
        },
        "ab8e5ee6363b41e1ae5866d8617d0813": {
          "model_module": "@jupyter-widgets/base",
          "model_module_version": "1.2.0",
          "model_name": "LayoutModel",
          "state": {
            "_model_module": "@jupyter-widgets/base",
            "_model_module_version": "1.2.0",
            "_model_name": "LayoutModel",
            "_view_count": null,
            "_view_module": "@jupyter-widgets/base",
            "_view_module_version": "1.2.0",
            "_view_name": "LayoutView",
            "align_content": null,
            "align_items": null,
            "align_self": null,
            "border": null,
            "bottom": null,
            "display": null,
            "flex": null,
            "flex_flow": null,
            "grid_area": null,
            "grid_auto_columns": null,
            "grid_auto_flow": null,
            "grid_auto_rows": null,
            "grid_column": null,
            "grid_gap": null,
            "grid_row": null,
            "grid_template_areas": null,
            "grid_template_columns": null,
            "grid_template_rows": null,
            "height": null,
            "justify_content": null,
            "justify_items": null,
            "left": null,
            "margin": null,
            "max_height": null,
            "max_width": null,
            "min_height": null,
            "min_width": null,
            "object_fit": null,
            "object_position": null,
            "order": null,
            "overflow": null,
            "overflow_x": null,
            "overflow_y": null,
            "padding": null,
            "right": null,
            "top": null,
            "visibility": null,
            "width": null
          }
        },
        "ae667a204c6a45348fdfd170baef7596": {
          "model_module": "@jupyter-widgets/controls",
          "model_module_version": "1.5.0",
          "model_name": "HTMLModel",
          "state": {
            "_dom_classes": [],
            "_model_module": "@jupyter-widgets/controls",
            "_model_module_version": "1.5.0",
            "_model_name": "HTMLModel",
            "_view_count": null,
            "_view_module": "@jupyter-widgets/controls",
            "_view_module_version": "1.5.0",
            "_view_name": "HTMLView",
            "description": "",
            "description_tooltip": null,
            "layout": "IPY_MODEL_5e8b410c03294f1d929289aa347f9b6b",
            "placeholder": "​",
            "style": "IPY_MODEL_0707b060af7b49e18308f39060011b5e",
            "value": " 95.0/95.0 [00:00&lt;00:00, 3.30kB/s]"
          }
        },
        "b0bba4bbd6fc49e099ac6b332e9514ed": {
          "model_module": "@jupyter-widgets/base",
          "model_module_version": "1.2.0",
          "model_name": "LayoutModel",
          "state": {
            "_model_module": "@jupyter-widgets/base",
            "_model_module_version": "1.2.0",
            "_model_name": "LayoutModel",
            "_view_count": null,
            "_view_module": "@jupyter-widgets/base",
            "_view_module_version": "1.2.0",
            "_view_name": "LayoutView",
            "align_content": null,
            "align_items": null,
            "align_self": null,
            "border": null,
            "bottom": null,
            "display": null,
            "flex": null,
            "flex_flow": null,
            "grid_area": null,
            "grid_auto_columns": null,
            "grid_auto_flow": null,
            "grid_auto_rows": null,
            "grid_column": null,
            "grid_gap": null,
            "grid_row": null,
            "grid_template_areas": null,
            "grid_template_columns": null,
            "grid_template_rows": null,
            "height": null,
            "justify_content": null,
            "justify_items": null,
            "left": null,
            "margin": null,
            "max_height": null,
            "max_width": null,
            "min_height": null,
            "min_width": null,
            "object_fit": null,
            "object_position": null,
            "order": null,
            "overflow": null,
            "overflow_x": null,
            "overflow_y": null,
            "padding": null,
            "right": null,
            "top": null,
            "visibility": null,
            "width": null
          }
        },
        "b4d44518e57e44f1a9b618fd4b68e6b1": {
          "model_module": "@jupyter-widgets/controls",
          "model_module_version": "1.5.0",
          "model_name": "HTMLModel",
          "state": {
            "_dom_classes": [],
            "_model_module": "@jupyter-widgets/controls",
            "_model_module_version": "1.5.0",
            "_model_name": "HTMLModel",
            "_view_count": null,
            "_view_module": "@jupyter-widgets/controls",
            "_view_module_version": "1.5.0",
            "_view_name": "HTMLView",
            "description": "",
            "description_tooltip": null,
            "layout": "IPY_MODEL_aa52857147974c0281feccbd3bb7af15",
            "placeholder": "​",
            "style": "IPY_MODEL_206b333621534ca3be6aed00f194f5ab",
            "value": " 724/724 [00:00&lt;00:00, 49.4kB/s]"
          }
        },
        "b79ef6acdabb4e5081ebe0cab7f2c2a9": {
          "model_module": "@jupyter-widgets/controls",
          "model_module_version": "1.5.0",
          "model_name": "HTMLModel",
          "state": {
            "_dom_classes": [],
            "_model_module": "@jupyter-widgets/controls",
            "_model_module_version": "1.5.0",
            "_model_name": "HTMLModel",
            "_view_count": null,
            "_view_module": "@jupyter-widgets/controls",
            "_view_module_version": "1.5.0",
            "_view_name": "HTMLView",
            "description": "",
            "description_tooltip": null,
            "layout": "IPY_MODEL_7f1a77c0ed7a48ceb6dad147b399ce52",
            "placeholder": "​",
            "style": "IPY_MODEL_bdbdee69102e414897ba486ce43507d7",
            "value": "tokenizer_config.json: 100%"
          }
        },
        "bdbdee69102e414897ba486ce43507d7": {
          "model_module": "@jupyter-widgets/controls",
          "model_module_version": "1.5.0",
          "model_name": "DescriptionStyleModel",
          "state": {
            "_model_module": "@jupyter-widgets/controls",
            "_model_module_version": "1.5.0",
            "_model_name": "DescriptionStyleModel",
            "_view_count": null,
            "_view_module": "@jupyter-widgets/base",
            "_view_module_version": "1.2.0",
            "_view_name": "StyleView",
            "description_width": ""
          }
        },
        "c49c8e0dab044bc589f8a1640a8d2965": {
          "model_module": "@jupyter-widgets/controls",
          "model_module_version": "1.5.0",
          "model_name": "FloatProgressModel",
          "state": {
            "_dom_classes": [],
            "_model_module": "@jupyter-widgets/controls",
            "_model_module_version": "1.5.0",
            "_model_name": "FloatProgressModel",
            "_view_count": null,
            "_view_module": "@jupyter-widgets/controls",
            "_view_module_version": "1.5.0",
            "_view_name": "ProgressView",
            "bar_style": "success",
            "description": "",
            "description_tooltip": null,
            "layout": "IPY_MODEL_51fa496e2af34a4b9de974dbbab794ca",
            "max": 724,
            "min": 0,
            "orientation": "horizontal",
            "style": "IPY_MODEL_7546b262a6254fd3aa4f85aec133d2c1",
            "value": 724
          }
        },
        "cd531d8440fe41efbbf52f8cf2503fbc": {
          "model_module": "@jupyter-widgets/controls",
          "model_module_version": "1.5.0",
          "model_name": "HBoxModel",
          "state": {
            "_dom_classes": [],
            "_model_module": "@jupyter-widgets/controls",
            "_model_module_version": "1.5.0",
            "_model_name": "HBoxModel",
            "_view_count": null,
            "_view_module": "@jupyter-widgets/controls",
            "_view_module_version": "1.5.0",
            "_view_name": "HBoxView",
            "box_style": "",
            "children": [
              "IPY_MODEL_0554f36c98fd4dbe9374632949ca93b9",
              "IPY_MODEL_638052606be34a7eab2f1107b383ded3",
              "IPY_MODEL_6c7ce93cf088405782650b64b848cd02"
            ],
            "layout": "IPY_MODEL_3ba38061aed745d788c6bf2ec3cfe153"
          }
        },
        "cf275566629b4a94b426be070178fab1": {
          "model_module": "@jupyter-widgets/base",
          "model_module_version": "1.2.0",
          "model_name": "LayoutModel",
          "state": {
            "_model_module": "@jupyter-widgets/base",
            "_model_module_version": "1.2.0",
            "_model_name": "LayoutModel",
            "_view_count": null,
            "_view_module": "@jupyter-widgets/base",
            "_view_module_version": "1.2.0",
            "_view_name": "LayoutView",
            "align_content": null,
            "align_items": null,
            "align_self": null,
            "border": null,
            "bottom": null,
            "display": null,
            "flex": null,
            "flex_flow": null,
            "grid_area": null,
            "grid_auto_columns": null,
            "grid_auto_flow": null,
            "grid_auto_rows": null,
            "grid_column": null,
            "grid_gap": null,
            "grid_row": null,
            "grid_template_areas": null,
            "grid_template_columns": null,
            "grid_template_rows": null,
            "height": null,
            "justify_content": null,
            "justify_items": null,
            "left": null,
            "margin": null,
            "max_height": null,
            "max_width": null,
            "min_height": null,
            "min_width": null,
            "object_fit": null,
            "object_position": null,
            "order": null,
            "overflow": null,
            "overflow_x": null,
            "overflow_y": null,
            "padding": null,
            "right": null,
            "top": null,
            "visibility": null,
            "width": null
          }
        },
        "d70d0b44c81d470ba5159e687c2acc67": {
          "model_module": "@jupyter-widgets/controls",
          "model_module_version": "1.5.0",
          "model_name": "HBoxModel",
          "state": {
            "_dom_classes": [],
            "_model_module": "@jupyter-widgets/controls",
            "_model_module_version": "1.5.0",
            "_model_name": "HBoxModel",
            "_view_count": null,
            "_view_module": "@jupyter-widgets/controls",
            "_view_module_version": "1.5.0",
            "_view_name": "HBoxView",
            "box_style": "",
            "children": [
              "IPY_MODEL_817c2591ad004f3ab4b09a90c8e763f9",
              "IPY_MODEL_5c03ec0e84e447c0bd1078b1a3195fb1",
              "IPY_MODEL_635ca86a9ebf41cca9cba73316d72f7a"
            ],
            "layout": "IPY_MODEL_1d91334e097c47b2a8bd014773ff8cc4"
          }
        },
        "dad264e5b6534548ab113a7eea166aa6": {
          "model_module": "@jupyter-widgets/base",
          "model_module_version": "1.2.0",
          "model_name": "LayoutModel",
          "state": {
            "_model_module": "@jupyter-widgets/base",
            "_model_module_version": "1.2.0",
            "_model_name": "LayoutModel",
            "_view_count": null,
            "_view_module": "@jupyter-widgets/base",
            "_view_module_version": "1.2.0",
            "_view_name": "LayoutView",
            "align_content": null,
            "align_items": null,
            "align_self": null,
            "border": null,
            "bottom": null,
            "display": null,
            "flex": null,
            "flex_flow": null,
            "grid_area": null,
            "grid_auto_columns": null,
            "grid_auto_flow": null,
            "grid_auto_rows": null,
            "grid_column": null,
            "grid_gap": null,
            "grid_row": null,
            "grid_template_areas": null,
            "grid_template_columns": null,
            "grid_template_rows": null,
            "height": null,
            "justify_content": null,
            "justify_items": null,
            "left": null,
            "margin": null,
            "max_height": null,
            "max_width": null,
            "min_height": null,
            "min_width": null,
            "object_fit": null,
            "object_position": null,
            "order": null,
            "overflow": null,
            "overflow_x": null,
            "overflow_y": null,
            "padding": null,
            "right": null,
            "top": null,
            "visibility": null,
            "width": null
          }
        },
        "e6926eb73f564ac89cdd3900760cf161": {
          "model_module": "@jupyter-widgets/base",
          "model_module_version": "1.2.0",
          "model_name": "LayoutModel",
          "state": {
            "_model_module": "@jupyter-widgets/base",
            "_model_module_version": "1.2.0",
            "_model_name": "LayoutModel",
            "_view_count": null,
            "_view_module": "@jupyter-widgets/base",
            "_view_module_version": "1.2.0",
            "_view_name": "LayoutView",
            "align_content": null,
            "align_items": null,
            "align_self": null,
            "border": null,
            "bottom": null,
            "display": null,
            "flex": null,
            "flex_flow": null,
            "grid_area": null,
            "grid_auto_columns": null,
            "grid_auto_flow": null,
            "grid_auto_rows": null,
            "grid_column": null,
            "grid_gap": null,
            "grid_row": null,
            "grid_template_areas": null,
            "grid_template_columns": null,
            "grid_template_rows": null,
            "height": null,
            "justify_content": null,
            "justify_items": null,
            "left": null,
            "margin": null,
            "max_height": null,
            "max_width": null,
            "min_height": null,
            "min_width": null,
            "object_fit": null,
            "object_position": null,
            "order": null,
            "overflow": null,
            "overflow_x": null,
            "overflow_y": null,
            "padding": null,
            "right": null,
            "top": null,
            "visibility": null,
            "width": null
          }
        },
        "eee781f5c0c2450698e6e3c560ab0ac7": {
          "model_module": "@jupyter-widgets/base",
          "model_module_version": "1.2.0",
          "model_name": "LayoutModel",
          "state": {
            "_model_module": "@jupyter-widgets/base",
            "_model_module_version": "1.2.0",
            "_model_name": "LayoutModel",
            "_view_count": null,
            "_view_module": "@jupyter-widgets/base",
            "_view_module_version": "1.2.0",
            "_view_name": "LayoutView",
            "align_content": null,
            "align_items": null,
            "align_self": null,
            "border": null,
            "bottom": null,
            "display": null,
            "flex": null,
            "flex_flow": null,
            "grid_area": null,
            "grid_auto_columns": null,
            "grid_auto_flow": null,
            "grid_auto_rows": null,
            "grid_column": null,
            "grid_gap": null,
            "grid_row": null,
            "grid_template_areas": null,
            "grid_template_columns": null,
            "grid_template_rows": null,
            "height": null,
            "justify_content": null,
            "justify_items": null,
            "left": null,
            "margin": null,
            "max_height": null,
            "max_width": null,
            "min_height": null,
            "min_width": null,
            "object_fit": null,
            "object_position": null,
            "order": null,
            "overflow": null,
            "overflow_x": null,
            "overflow_y": null,
            "padding": null,
            "right": null,
            "top": null,
            "visibility": null,
            "width": null
          }
        },
        "efa9b10d4b604fcb92f95bf1882c7735": {
          "model_module": "@jupyter-widgets/base",
          "model_module_version": "1.2.0",
          "model_name": "LayoutModel",
          "state": {
            "_model_module": "@jupyter-widgets/base",
            "_model_module_version": "1.2.0",
            "_model_name": "LayoutModel",
            "_view_count": null,
            "_view_module": "@jupyter-widgets/base",
            "_view_module_version": "1.2.0",
            "_view_name": "LayoutView",
            "align_content": null,
            "align_items": null,
            "align_self": null,
            "border": null,
            "bottom": null,
            "display": null,
            "flex": null,
            "flex_flow": null,
            "grid_area": null,
            "grid_auto_columns": null,
            "grid_auto_flow": null,
            "grid_auto_rows": null,
            "grid_column": null,
            "grid_gap": null,
            "grid_row": null,
            "grid_template_areas": null,
            "grid_template_columns": null,
            "grid_template_rows": null,
            "height": null,
            "justify_content": null,
            "justify_items": null,
            "left": null,
            "margin": null,
            "max_height": null,
            "max_width": null,
            "min_height": null,
            "min_width": null,
            "object_fit": null,
            "object_position": null,
            "order": null,
            "overflow": null,
            "overflow_x": null,
            "overflow_y": null,
            "padding": null,
            "right": null,
            "top": null,
            "visibility": null,
            "width": null
          }
        },
        "f0df93fb7ec04f15845676889ab555d8": {
          "model_module": "@jupyter-widgets/controls",
          "model_module_version": "1.5.0",
          "model_name": "HTMLModel",
          "state": {
            "_dom_classes": [],
            "_model_module": "@jupyter-widgets/controls",
            "_model_module_version": "1.5.0",
            "_model_name": "HTMLModel",
            "_view_count": null,
            "_view_module": "@jupyter-widgets/controls",
            "_view_module_version": "1.5.0",
            "_view_name": "HTMLView",
            "description": "",
            "description_tooltip": null,
            "layout": "IPY_MODEL_1914d0f6dfee48af8ed4cf6fe31515da",
            "placeholder": "​",
            "style": "IPY_MODEL_5d46586beb884a418c4e0bfe5411a930",
            "value": "config.json: 100%"
          }
        },
        "f814cf4ac5e842f6a40e20cab0ded0ff": {
          "model_module": "@jupyter-widgets/base",
          "model_module_version": "1.2.0",
          "model_name": "LayoutModel",
          "state": {
            "_model_module": "@jupyter-widgets/base",
            "_model_module_version": "1.2.0",
            "_model_name": "LayoutModel",
            "_view_count": null,
            "_view_module": "@jupyter-widgets/base",
            "_view_module_version": "1.2.0",
            "_view_name": "LayoutView",
            "align_content": null,
            "align_items": null,
            "align_self": null,
            "border": null,
            "bottom": null,
            "display": null,
            "flex": null,
            "flex_flow": null,
            "grid_area": null,
            "grid_auto_columns": null,
            "grid_auto_flow": null,
            "grid_auto_rows": null,
            "grid_column": null,
            "grid_gap": null,
            "grid_row": null,
            "grid_template_areas": null,
            "grid_template_columns": null,
            "grid_template_rows": null,
            "height": null,
            "justify_content": null,
            "justify_items": null,
            "left": null,
            "margin": null,
            "max_height": null,
            "max_width": null,
            "min_height": null,
            "min_width": null,
            "object_fit": null,
            "object_position": null,
            "order": null,
            "overflow": null,
            "overflow_x": null,
            "overflow_y": null,
            "padding": null,
            "right": null,
            "top": null,
            "visibility": null,
            "width": null
          }
        },
        "fb2e50ec4a3a429797a8eb8b08eb558f": {
          "model_module": "@jupyter-widgets/controls",
          "model_module_version": "1.5.0",
          "model_name": "FloatProgressModel",
          "state": {
            "_dom_classes": [],
            "_model_module": "@jupyter-widgets/controls",
            "_model_module_version": "1.5.0",
            "_model_name": "FloatProgressModel",
            "_view_count": null,
            "_view_module": "@jupyter-widgets/controls",
            "_view_module_version": "1.5.0",
            "_view_name": "ProgressView",
            "bar_style": "success",
            "description": "",
            "description_tooltip": null,
            "layout": "IPY_MODEL_f814cf4ac5e842f6a40e20cab0ded0ff",
            "max": 95,
            "min": 0,
            "orientation": "horizontal",
            "style": "IPY_MODEL_0ea2e0ee33cc4f3c9cc6022056c0f38b",
            "value": 95
          }
        },
        "fe17c6ecbd28424c925c3152f23aa3dc": {
          "model_module": "@jupyter-widgets/controls",
          "model_module_version": "1.5.0",
          "model_name": "HTMLModel",
          "state": {
            "_dom_classes": [],
            "_model_module": "@jupyter-widgets/controls",
            "_model_module_version": "1.5.0",
            "_model_name": "HTMLModel",
            "_view_count": null,
            "_view_module": "@jupyter-widgets/controls",
            "_view_module_version": "1.5.0",
            "_view_name": "HTMLView",
            "description": "",
            "description_tooltip": null,
            "layout": "IPY_MODEL_3a6b5d74cded499e8b7906b5d202ba5f",
            "placeholder": "​",
            "style": "IPY_MODEL_009f6a78ce4f4a929ce725baaf117fe5",
            "value": " 93.0/93.0 [00:00&lt;00:00, 7.00kB/s]"
          }
        }
      }
    }
  },
  "nbformat": 4,
  "nbformat_minor": 0
}