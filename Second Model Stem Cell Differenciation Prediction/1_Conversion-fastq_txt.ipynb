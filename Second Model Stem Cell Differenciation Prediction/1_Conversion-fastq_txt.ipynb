{
 "cells": [
  {
   "cell_type": "code",
   "execution_count": 2,
   "id": "c565f84b",
   "metadata": {},
   "outputs": [
    {
     "name": "stdout",
     "output_type": "stream",
     "text": [
      "Requirement already satisfied: Bio in c:\\users\\cbe\\appdata\\local\\programs\\python\\python310\\lib\\site-packages (1.7.1)\n",
      "Requirement already satisfied: biopython>=1.80 in c:\\users\\cbe\\appdata\\local\\programs\\python\\python310\\lib\\site-packages (from Bio) (1.84)\n",
      "Requirement already satisfied: gprofiler-official in c:\\users\\cbe\\appdata\\local\\programs\\python\\python310\\lib\\site-packages (from Bio) (1.0.0)\n",
      "Requirement already satisfied: mygene in c:\\users\\cbe\\appdata\\local\\programs\\python\\python310\\lib\\site-packages (from Bio) (3.2.2)\n",
      "Requirement already satisfied: pandas in c:\\users\\cbe\\appdata\\local\\programs\\python\\python310\\lib\\site-packages (from Bio) (2.0.3)\n",
      "Requirement already satisfied: pooch in c:\\users\\cbe\\appdata\\local\\programs\\python\\python310\\lib\\site-packages (from Bio) (1.8.2)\n",
      "Requirement already satisfied: requests in c:\\users\\cbe\\appdata\\local\\programs\\python\\python310\\lib\\site-packages (from Bio) (2.29.0)\n",
      "Requirement already satisfied: tqdm in c:\\users\\cbe\\appdata\\local\\programs\\python\\python310\\lib\\site-packages (from Bio) (4.66.2)\n",
      "Requirement already satisfied: numpy in c:\\users\\cbe\\appdata\\local\\programs\\python\\python310\\lib\\site-packages (from biopython>=1.80->Bio) (1.24.3)\n",
      "Requirement already satisfied: biothings-client>=0.2.6 in c:\\users\\cbe\\appdata\\local\\programs\\python\\python310\\lib\\site-packages (from mygene->Bio) (0.3.1)\n",
      "Requirement already satisfied: python-dateutil>=2.8.2 in c:\\users\\cbe\\appdata\\local\\programs\\python\\python310\\lib\\site-packages (from pandas->Bio) (2.8.2)\n",
      "Requirement already satisfied: pytz>=2020.1 in c:\\users\\cbe\\appdata\\local\\programs\\python\\python310\\lib\\site-packages (from pandas->Bio) (2023.3)\n",
      "Requirement already satisfied: tzdata>=2022.1 in c:\\users\\cbe\\appdata\\local\\programs\\python\\python310\\lib\\site-packages (from pandas->Bio) (2023.3)\n",
      "Requirement already satisfied: platformdirs>=2.5.0 in c:\\users\\cbe\\appdata\\local\\programs\\python\\python310\\lib\\site-packages (from pooch->Bio) (3.5.0)\n",
      "Requirement already satisfied: packaging>=20.0 in c:\\users\\cbe\\appdata\\local\\programs\\python\\python310\\lib\\site-packages (from pooch->Bio) (24.1)\n",
      "Requirement already satisfied: charset-normalizer<4,>=2 in c:\\users\\cbe\\appdata\\local\\programs\\python\\python310\\lib\\site-packages (from requests->Bio) (3.1.0)\n",
      "Requirement already satisfied: idna<4,>=2.5 in c:\\users\\cbe\\appdata\\local\\programs\\python\\python310\\lib\\site-packages (from requests->Bio) (3.4)\n",
      "Requirement already satisfied: urllib3<1.27,>=1.21.1 in c:\\users\\cbe\\appdata\\local\\programs\\python\\python310\\lib\\site-packages (from requests->Bio) (1.26.15)\n",
      "Requirement already satisfied: certifi>=2017.4.17 in c:\\users\\cbe\\appdata\\local\\programs\\python\\python310\\lib\\site-packages (from requests->Bio) (2022.12.7)\n",
      "Requirement already satisfied: colorama in c:\\users\\cbe\\appdata\\local\\programs\\python\\python310\\lib\\site-packages (from tqdm->Bio) (0.4.6)\n",
      "Requirement already satisfied: six>=1.5 in c:\\users\\cbe\\appdata\\local\\programs\\python\\python310\\lib\\site-packages (from python-dateutil>=2.8.2->pandas->Bio) (1.16.0)\n"
     ]
    }
   ],
   "source": [
    "!pip install biopython"
   ]
  },
  {
   "cell_type": "code",
   "execution_count": 1,
   "id": "92de1596",
   "metadata": {},
   "outputs": [],
   "source": [
    "from Bio import SeqIO\n",
    "from Bio.Seq import Seq\n",
    "from Bio.SeqRecord import SeqRecord\n",
    "from Bio.SeqUtils import six_frame_translations\n",
    "from tqdm import tqdm"
   ]
  },
  {
   "cell_type": "code",
   "execution_count": 6,
   "id": "a25df48d",
   "metadata": {},
   "outputs": [],
   "source": [
    "\n",
    "def fastq_to_txt(fastq_file, txt_file):\n",
    "    with open(fastq_file, \"r\") as infile, open(txt_file, \"w\") as outfile:\n",
    "        for record in SeqIO.parse(infile, \"fastq\"):\n",
    "            outfile.write(f\"{record.seq}\\n\")\n",
    "\n",
    "# Provide the path to your FASTQ file and the output TXT file\n",
    "fastq_file = \"./SRR20974333.fastq\"\n",
    "txt_file = \"output.txt\"\n",
    "\n",
    "fastq_to_txt(fastq_file, txt_file)\n"
   ]
  },
  {
   "cell_type": "code",
   "execution_count": 2,
   "id": "b2a31c30",
   "metadata": {},
   "outputs": [
    {
     "ename": "KeyboardInterrupt",
     "evalue": "",
     "output_type": "error",
     "traceback": [
      "\u001b[1;31m---------------------------------------------------------------------------\u001b[0m",
      "\u001b[1;31mKeyboardInterrupt\u001b[0m                         Traceback (most recent call last)",
      "Cell \u001b[1;32mIn[2], line 62\u001b[0m\n\u001b[0;32m     60\u001b[0m output_file \u001b[38;5;241m=\u001b[39m \u001b[38;5;124m\"\u001b[39m\u001b[38;5;124m./protein_sequences.txt\u001b[39m\u001b[38;5;124m\"\u001b[39m\n\u001b[0;32m     61\u001b[0m input_file \u001b[38;5;241m=\u001b[39m \u001b[38;5;124m\"\u001b[39m\u001b[38;5;124m./output.txt\u001b[39m\u001b[38;5;124m\"\u001b[39m\n\u001b[1;32m---> 62\u001b[0m \u001b[43mmain\u001b[49m\u001b[43m(\u001b[49m\u001b[43minput_file\u001b[49m\u001b[43m,\u001b[49m\u001b[43m \u001b[49m\u001b[43moutput_file\u001b[49m\u001b[43m)\u001b[49m\n",
      "Cell \u001b[1;32mIn[2], line 46\u001b[0m, in \u001b[0;36mmain\u001b[1;34m(input_file, output_file)\u001b[0m\n\u001b[0;32m     44\u001b[0m \u001b[38;5;66;03m# Optionally identify ORFs for visualization\u001b[39;00m\n\u001b[0;32m     45\u001b[0m orf_translation_output\u001b[38;5;241m.\u001b[39mappend(\u001b[38;5;124m\"\u001b[39m\u001b[38;5;124mSix-frame translations:\u001b[39m\u001b[38;5;124m\"\u001b[39m)\n\u001b[1;32m---> 46\u001b[0m orf_translation_output\u001b[38;5;241m.\u001b[39mappend(\u001b[43midentify_orfs\u001b[49m\u001b[43m(\u001b[49m\u001b[43mrna_sequence\u001b[49m\u001b[43m)\u001b[49m)\n\u001b[0;32m     48\u001b[0m longest_orf \u001b[38;5;241m=\u001b[39m find_longest_orf(rna_sequence)\n\u001b[0;32m     49\u001b[0m \u001b[38;5;28;01mif\u001b[39;00m \u001b[38;5;28mlen\u001b[39m(longest_orf) \u001b[38;5;241m==\u001b[39m \u001b[38;5;241m0\u001b[39m:\n",
      "Cell \u001b[1;32mIn[2], line 9\u001b[0m, in \u001b[0;36midentify_orfs\u001b[1;34m(rna_sequence)\u001b[0m\n\u001b[0;32m      8\u001b[0m \u001b[38;5;28;01mdef\u001b[39;00m \u001b[38;5;21midentify_orfs\u001b[39m(rna_sequence):\n\u001b[1;32m----> 9\u001b[0m     \u001b[38;5;28;01mreturn\u001b[39;00m \u001b[43msix_frame_translations\u001b[49m\u001b[43m(\u001b[49m\u001b[43mrna_sequence\u001b[49m\u001b[43m)\u001b[49m\n",
      "File \u001b[1;32m~\\AppData\\Local\\Programs\\Python\\Python310\\lib\\site-packages\\Bio\\SeqUtils\\__init__.py:573\u001b[0m, in \u001b[0;36msix_frame_translations\u001b[1;34m(seq, genetic_code)\u001b[0m\n\u001b[0;32m    571\u001b[0m     \u001b[38;5;66;03m# - frames\u001b[39;00m\n\u001b[0;32m    572\u001b[0m     res \u001b[38;5;241m+\u001b[39m\u001b[38;5;241m=\u001b[39m \u001b[38;5;124m\"\u001b[39m\u001b[38;5;124m  \u001b[39m\u001b[38;5;124m\"\u001b[39m\u001b[38;5;241m.\u001b[39mjoin(frames[\u001b[38;5;241m-\u001b[39m\u001b[38;5;241m2\u001b[39m][p : p \u001b[38;5;241m+\u001b[39m \u001b[38;5;241m20\u001b[39m]) \u001b[38;5;241m+\u001b[39m \u001b[38;5;124m\"\u001b[39m\u001b[38;5;130;01m\\n\u001b[39;00m\u001b[38;5;124m\"\u001b[39m\n\u001b[1;32m--> 573\u001b[0m     res \u001b[38;5;241m+\u001b[39m\u001b[38;5;241m=\u001b[39m \u001b[38;5;124m\"\u001b[39m\u001b[38;5;124m \u001b[39m\u001b[38;5;124m\"\u001b[39m \u001b[38;5;241m+\u001b[39m \u001b[38;5;124;43m\"\u001b[39;49m\u001b[38;5;124;43m  \u001b[39;49m\u001b[38;5;124;43m\"\u001b[39;49m\u001b[38;5;241;43m.\u001b[39;49m\u001b[43mjoin\u001b[49m\u001b[43m(\u001b[49m\u001b[43mframes\u001b[49m\u001b[43m[\u001b[49m\u001b[38;5;241;43m-\u001b[39;49m\u001b[38;5;241;43m1\u001b[39;49m\u001b[43m]\u001b[49m\u001b[43m[\u001b[49m\u001b[43mp\u001b[49m\u001b[43m \u001b[49m\u001b[43m:\u001b[49m\u001b[43m \u001b[49m\u001b[43mp\u001b[49m\u001b[43m \u001b[49m\u001b[38;5;241;43m+\u001b[39;49m\u001b[43m \u001b[49m\u001b[38;5;241;43m20\u001b[39;49m\u001b[43m]\u001b[49m\u001b[43m)\u001b[49m \u001b[38;5;241m+\u001b[39m \u001b[38;5;124m\"\u001b[39m\u001b[38;5;130;01m\\n\u001b[39;00m\u001b[38;5;124m\"\u001b[39m\n\u001b[0;32m    574\u001b[0m     res \u001b[38;5;241m+\u001b[39m\u001b[38;5;241m=\u001b[39m \u001b[38;5;124m\"\u001b[39m\u001b[38;5;124m  \u001b[39m\u001b[38;5;124m\"\u001b[39m \u001b[38;5;241m+\u001b[39m \u001b[38;5;124m\"\u001b[39m\u001b[38;5;124m  \u001b[39m\u001b[38;5;124m\"\u001b[39m\u001b[38;5;241m.\u001b[39mjoin(frames[\u001b[38;5;241m-\u001b[39m\u001b[38;5;241m3\u001b[39m][p : p \u001b[38;5;241m+\u001b[39m \u001b[38;5;241m20\u001b[39m]) \u001b[38;5;241m+\u001b[39m \u001b[38;5;124m\"\u001b[39m\u001b[38;5;130;01m\\n\u001b[39;00m\u001b[38;5;130;01m\\n\u001b[39;00m\u001b[38;5;124m\"\u001b[39m\n\u001b[0;32m    575\u001b[0m \u001b[38;5;28;01mreturn\u001b[39;00m res\n",
      "\u001b[1;31mKeyboardInterrupt\u001b[0m: "
     ]
    }
   ],
   "source": [
    "# Step 1: Read a continuous RNA sequence from a TXT file\n",
    "def read_rna_sequence(txt_file):\n",
    "    with open(txt_file, \"r\") as file:\n",
    "        sequence = file.read().strip()\n",
    "    return sequence\n",
    "\n",
    "# Step 2: Identify ORFs using six-frame translation (optional)\n",
    "def identify_orfs(rna_sequence):\n",
    "    return six_frame_translations(rna_sequence)\n",
    "\n",
    "# Step 3: Find all ORFs in all three forward frames and select the longest\n",
    "def find_longest_orf(rna_sequence):\n",
    "    start_codon = 'AUG'\n",
    "    stop_codons = ['UAA', 'UAG', 'UGA']\n",
    "    longest_orf = Seq(\"\")\n",
    "    \n",
    "    for frame in range(3):\n",
    "        orf_start = None\n",
    "        for i in tqdm(range(frame, len(rna_sequence), 3)):\n",
    "            codon = rna_sequence[i:i+3]\n",
    "            if codon == start_codon and orf_start is None:\n",
    "                orf_start = i\n",
    "            elif codon in stop_codons and orf_start is not None:\n",
    "                orf = rna_sequence[orf_start:i+3]  # Include the stop codon\n",
    "                if len(orf) > len(longest_orf):\n",
    "                    longest_orf = orf\n",
    "                orf_start = None\n",
    "    return longest_orf\n",
    "\n",
    "# Step 4: Translate the correct ORF\n",
    "def translate_orf(orf):\n",
    "    protein_sequence = orf.translate(to_stop=True)\n",
    "    return protein_sequence\n",
    "\n",
    "# Step 5: Main function to execute the steps and save the results\n",
    "def main(input_file, output_file):\n",
    "    rna_sequence = read_rna_sequence(input_file)\n",
    "    if not rna_sequence:\n",
    "        print(\"No sequence found in the file.\")\n",
    "        return\n",
    "    \n",
    "    orf_translation_output = []\n",
    "    \n",
    "    # Optionally identify ORFs for visualization\n",
    "    orf_translation_output.append(\"Six-frame translations:\")\n",
    "    orf_translation_output.append(identify_orfs(rna_sequence))\n",
    "    \n",
    "    longest_orf = find_longest_orf(rna_sequence)\n",
    "    if len(longest_orf) == 0:\n",
    "        orf_translation_output.append(\"No ORF found.\")\n",
    "    else:\n",
    "        protein_sequence = translate_orf(longest_orf)\n",
    "        orf_translation_output.append(f\"Longest ORF: {longest_orf}\")\n",
    "        orf_translation_output.append(f\"Translated Protein Sequence: {protein_sequence}\")\n",
    "    \n",
    "    with open(output_file, \"w\") as out_file:\n",
    "        out_file.write(\"\\n\".join(orf_translation_output))\n",
    "\n",
    "# Provide the path to your input RNA sequence TXT file and the output TXT file\n",
    "output_file = \"./protein_sequences.txt\"\n",
    "input_file = \"./output.txt\"\n",
    "main(input_file, output_file)"
   ]
  }
 ],
 "metadata": {
  "kernelspec": {
   "display_name": "Python 3 (ipykernel)",
   "language": "python",
   "name": "python3"
  },
  "language_info": {
   "codemirror_mode": {
    "name": "ipython",
    "version": 3
   },
   "file_extension": ".py",
   "mimetype": "text/x-python",
   "name": "python",
   "nbconvert_exporter": "python",
   "pygments_lexer": "ipython3",
   "version": "3.10.11"
  }
 },
 "nbformat": 4,
 "nbformat_minor": 5
}
