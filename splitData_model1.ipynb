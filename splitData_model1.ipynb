{
  "cells": [
    {
      "cell_type": "code",
      "execution_count": null,
      "metadata": {
        "id": "X43jolt9PL4W",
        "outputId": "ab51df4e-cdcb-4dbb-a5fa-641597be0664"
      },
      "outputs": [
        {
          "name": "stdout",
          "output_type": "stream",
          "text": [
            "updated_CN01.csv: 410 rows\n",
            "updated_CN03.csv: 410 rows\n",
            "updated_CN04.csv: 410 rows\n",
            "updated_CN05.csv: 410 rows\n",
            "updated_CN06.csv: 410 rows\n",
            "updated_CN07.csv: 410 rows\n",
            "updated_CN08.csv: 410 rows\n",
            "updated_CN09.csv: 410 rows\n",
            "updated_CN10.csv: 410 rows\n",
            "updated_CN11.csv: 410 rows\n",
            "updated_CN12.csv: 410 rows\n",
            "updated_ML01.csv: 410 rows\n",
            "updated_ML02.csv: 410 rows\n",
            "updated_ML03.csv: 410 rows\n",
            "updated_ML04.csv: 410 rows\n",
            "updated_ML05.csv: 410 rows\n",
            "updated_ML06.csv: 410 rows\n",
            "updated_ML08.csv: 410 rows\n",
            "updated_ML09.csv: 410 rows\n",
            "updated_ML10.csv: 410 rows\n",
            "updated_ML11.csv: 410 rows\n",
            "updated_ML12.csv: 410 rows\n",
            "updated_MR01.csv: 410 rows\n",
            "updated_MR02.csv: 410 rows\n",
            "updated_MR03.csv: 410 rows\n",
            "updated_MR04.csv: 410 rows\n",
            "updated_MR05.csv: 410 rows\n",
            "updated_MR06.csv: 410 rows\n",
            "updated_MR07.csv: 410 rows\n",
            "updated_MR08.csv: 410 rows\n",
            "updated_MR09.csv: 410 rows\n",
            "updated_MR10.csv: 410 rows\n",
            "updated_MR11.csv: 410 rows\n",
            "updated_MR12.csv: 410 rows\n",
            "All updated CSV files have the same number of rows.\n"
          ]
        }
      ],
      "source": [
        "import pandas as pd\n",
        "import os\n",
        "\n",
        "csv_folder_path = 'labeled-data/'\n",
        "\n",
        "# Get a list of all updated CSV files\n",
        "updated_csv_files = sorted([f for f in os.listdir(csv_folder_path) if f.startswith('updated_') and f.endswith('.csv')])\n",
        "\n",
        "rows_count = []\n",
        "\n",
        "# Process each updated CSV file\n",
        "for csv_file in updated_csv_files:\n",
        "    file_path = os.path.join(csv_folder_path, csv_file)\n",
        "\n",
        "    df = pd.read_csv(file_path)\n",
        "\n",
        "    # Count the number of rows and store it in the list\n",
        "    rows_count.append((csv_file, len(df)))\n",
        "\n",
        "# Print the number of rows for each CSV file\n",
        "for csv_file, count in rows_count:\n",
        "    print(f\"{csv_file}: {count} rows\")\n",
        "\n",
        "# Check if all CSV files have the same number of rows\n",
        "all_equal = all(count == rows_count[0][1] for _, count in rows_count)\n",
        "if all_equal:\n",
        "    print(\"All updated CSV files have the same number of rows.\")\n",
        "else:\n",
        "    print(\"Not all updated CSV files have the same number of rows.\")\n"
      ]
    },
    {
      "cell_type": "markdown",
      "metadata": {
        "id": "qCHwwtjQPL4c"
      },
      "source": [
        "***************"
      ]
    },
    {
      "cell_type": "code",
      "execution_count": null,
      "metadata": {
        "id": "1j7Y6LmOPL4f",
        "outputId": "367e1ce3-c4b5-4120-c318-24f9bcb303dd"
      },
      "outputs": [
        {
          "name": "stdout",
          "output_type": "stream",
          "text": [
            "Data has been split into train.csv and test.csv.\n"
          ]
        }
      ],
      "source": [
        "import pandas as pd\n",
        "import os\n",
        "from sklearn.model_selection import train_test_split\n",
        "\n",
        "csv_folder_path = 'labeled-data/'\n",
        "\n",
        "# Get a list of all updated CSV files\n",
        "updated_csv_files = sorted([f for f in os.listdir(csv_folder_path) if f.startswith('updated_') and f.endswith('.csv')])\n",
        "\n",
        "train_df = pd.DataFrame()\n",
        "test_df = pd.DataFrame()\n",
        "\n",
        "# Process each updated CSV file\n",
        "for csv_file in updated_csv_files:\n",
        "    file_path = os.path.join(csv_folder_path, csv_file)\n",
        "\n",
        "    df = pd.read_csv(file_path)\n",
        "\n",
        "    # Split the data into training and testing sets (75% train, 25% test)\n",
        "    train, test = train_test_split(df, test_size=0.25, random_state=42)\n",
        "\n",
        "    # Concatenate the splits into the overall training and testing DataFrames\n",
        "    train_df = pd.concat([train_df, train], ignore_index=True)\n",
        "    test_df = pd.concat([test_df, test], ignore_index=True)\n",
        "\n",
        "train_df.to_csv(os.path.join(csv_folder_path, 'train.csv'), index=False)\n",
        "test_df.to_csv(os.path.join(csv_folder_path, 'test.csv'), index=False)\n",
        "\n",
        "print(\"Data has been split into train.csv and test.csv.\")\n"
      ]
    },
    {
      "cell_type": "code",
      "execution_count": null,
      "metadata": {
        "id": "fZIypcvpPL4h",
        "outputId": "446241f6-5f61-4248-c657-786569053b07"
      },
      "outputs": [
        {
          "data": {
            "text/plain": [
              "(10438, 25)"
            ]
          },
          "execution_count": 3,
          "metadata": {},
          "output_type": "execute_result"
        }
      ],
      "source": [
        "train_df.shape"
      ]
    },
    {
      "cell_type": "code",
      "execution_count": null,
      "metadata": {
        "id": "wbuLZrybPL4i",
        "outputId": "99efabb6-091f-4518-903e-6e052aa2fe7b"
      },
      "outputs": [
        {
          "data": {
            "text/plain": [
              "(3502, 25)"
            ]
          },
          "execution_count": 4,
          "metadata": {},
          "output_type": "execute_result"
        }
      ],
      "source": [
        "test_df.shape"
      ]
    }
  ],
  "metadata": {
    "kernelspec": {
      "display_name": "Python 3",
      "language": "python",
      "name": "python3"
    },
    "language_info": {
      "codemirror_mode": {
        "name": "ipython",
        "version": 3
      },
      "file_extension": ".py",
      "mimetype": "text/x-python",
      "name": "python",
      "nbconvert_exporter": "python",
      "pygments_lexer": "ipython3",
      "version": "3.10.11"
    },
    "colab": {
      "provenance": []
    }
  },
  "nbformat": 4,
  "nbformat_minor": 0
}