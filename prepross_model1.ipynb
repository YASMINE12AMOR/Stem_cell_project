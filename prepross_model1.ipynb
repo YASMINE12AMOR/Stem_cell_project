{
  "cells": [
    {
      "cell_type": "code",
      "execution_count": null,
      "metadata": {
        "id": "R-0_FulfPKo2"
      },
      "outputs": [],
      "source": [
        "import pandas as pd\n",
        "import os"
      ]
    },
    {
      "cell_type": "code",
      "execution_count": null,
      "metadata": {
        "id": "-y5HS7u3PKo5"
      },
      "outputs": [],
      "source": [
        "csv_folder_path = 'data/'\n",
        "label_file_path = \"C:/Users/ASUS/Downloads/svm/data/labels.xlsx\""
      ]
    },
    {
      "cell_type": "code",
      "execution_count": null,
      "metadata": {
        "id": "NFRgabuVPKo6"
      },
      "outputs": [],
      "source": [
        "label_df = pd.read_excel(label_file_path, header=None)\n",
        "labels = label_df[0].tolist()"
      ]
    },
    {
      "cell_type": "code",
      "execution_count": null,
      "metadata": {
        "id": "daAw0D6mPKo7"
      },
      "outputs": [],
      "source": [
        "# Check if the number of labels matches the number of CSV files\n",
        "num_files = len([f for f in os.listdir(csv_folder_path) if f.endswith('.csv')])\n",
        "if len(labels) != num_files:\n",
        "    raise ValueError(\"The number of labels does not match the number of CSV files.\")"
      ]
    },
    {
      "cell_type": "code",
      "execution_count": null,
      "metadata": {
        "id": "wVxOvr6uPKo8"
      },
      "outputs": [],
      "source": [
        "# Process each CSV file\n",
        "for i, csv_file in enumerate(sorted([f for f in os.listdir(csv_folder_path) if f.endswith('.csv')])):\n",
        "    file_path = os.path.join(csv_folder_path, csv_file)\n",
        "\n",
        "    df = pd.read_csv(file_path)\n",
        "\n",
        "    df['Label'] = labels[i]\n",
        "\n",
        "    updated_file_path = os.path.join(csv_folder_path, f'updated_{csv_file}')\n",
        "    df.to_csv(updated_file_path, index=False)"
      ]
    }
  ],
  "metadata": {
    "kernelspec": {
      "display_name": "Python 3",
      "language": "python",
      "name": "python3"
    },
    "language_info": {
      "codemirror_mode": {
        "name": "ipython",
        "version": 3
      },
      "file_extension": ".py",
      "mimetype": "text/x-python",
      "name": "python",
      "nbconvert_exporter": "python",
      "pygments_lexer": "ipython3",
      "version": "3.10.11"
    },
    "colab": {
      "provenance": []
    }
  },
  "nbformat": 4,
  "nbformat_minor": 0
}